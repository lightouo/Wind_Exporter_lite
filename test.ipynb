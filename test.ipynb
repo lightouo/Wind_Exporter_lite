{
 "cells": [
  {
   "cell_type": "code",
   "execution_count": 1,
   "metadata": {},
   "outputs": [
    {
     "name": "stdout",
     "output_type": "stream",
     "text": [
      "Welcome to use Wind Quant API for Python (WindPy)!\n",
      "\n",
      "COPYRIGHT (C) 2020 WIND INFORMATION CO., LTD. ALL RIGHTS RESERVED.\n",
      "IN NO CIRCUMSTANCE SHALL WIND BE RESPONSIBLE FOR ANY DAMAGES OR LOSSES CAUSED BY USING WIND QUANT API FOR Python.\n"
     ]
    },
    {
     "data": {
      "text/html": [
       "<div>\n",
       "<style scoped>\n",
       "    .dataframe tbody tr th:only-of-type {\n",
       "        vertical-align: middle;\n",
       "    }\n",
       "\n",
       "    .dataframe tbody tr th {\n",
       "        vertical-align: top;\n",
       "    }\n",
       "\n",
       "    .dataframe thead th {\n",
       "        text-align: right;\n",
       "    }\n",
       "</style>\n",
       "<table border=\"1\" class=\"dataframe\">\n",
       "  <thead>\n",
       "    <tr style=\"text-align: right;\">\n",
       "      <th></th>\n",
       "      <th>SEC_NAME</th>\n",
       "      <th>NAV</th>\n",
       "      <th>NAV_ADJ_RETURN1</th>\n",
       "      <th>RETURN_1M</th>\n",
       "      <th>RETURN_3M</th>\n",
       "      <th>RETURN_1Y</th>\n",
       "    </tr>\n",
       "  </thead>\n",
       "  <tbody>\n",
       "    <tr>\n",
       "      <th>2022-11-07</th>\n",
       "      <td>平安短债A</td>\n",
       "      <td>1.1488</td>\n",
       "      <td>0.008705</td>\n",
       "      <td>2.492929</td>\n",
       "      <td>1.922233</td>\n",
       "      <td>3.170184</td>\n",
       "    </tr>\n",
       "    <tr>\n",
       "      <th>2022-11-08</th>\n",
       "      <td>平安短债A</td>\n",
       "      <td>1.1486</td>\n",
       "      <td>-0.017409</td>\n",
       "      <td>2.283034</td>\n",
       "      <td>1.710601</td>\n",
       "      <td>3.124439</td>\n",
       "    </tr>\n",
       "    <tr>\n",
       "      <th>2022-11-09</th>\n",
       "      <td>平安短债A</td>\n",
       "      <td>1.1485</td>\n",
       "      <td>-0.008706</td>\n",
       "      <td>2.178233</td>\n",
       "      <td>1.710751</td>\n",
       "      <td>3.124719</td>\n",
       "    </tr>\n",
       "    <tr>\n",
       "      <th>2022-11-10</th>\n",
       "      <td>平安短债A</td>\n",
       "      <td>1.1482</td>\n",
       "      <td>-0.026121</td>\n",
       "      <td>1.031175</td>\n",
       "      <td>1.570145</td>\n",
       "      <td>3.070018</td>\n",
       "    </tr>\n",
       "    <tr>\n",
       "      <th>2022-11-11</th>\n",
       "      <td>平安短债A</td>\n",
       "      <td>1.1478</td>\n",
       "      <td>-0.034837</td>\n",
       "      <td>0.514333</td>\n",
       "      <td>1.500236</td>\n",
       "      <td>3.034111</td>\n",
       "    </tr>\n",
       "    <tr>\n",
       "      <th>2022-11-14</th>\n",
       "      <td>平安短债A</td>\n",
       "      <td>1.1463</td>\n",
       "      <td>-0.130685</td>\n",
       "      <td>-1.325670</td>\n",
       "      <td>0.974999</td>\n",
       "      <td>2.890225</td>\n",
       "    </tr>\n",
       "    <tr>\n",
       "      <th>2022-11-15</th>\n",
       "      <td>平安短债A</td>\n",
       "      <td>1.1453</td>\n",
       "      <td>-0.087237</td>\n",
       "      <td>-2.334451</td>\n",
       "      <td>0.416772</td>\n",
       "      <td>2.791240</td>\n",
       "    </tr>\n",
       "    <tr>\n",
       "      <th>2022-11-16</th>\n",
       "      <td>平安短债A</td>\n",
       "      <td>1.1443</td>\n",
       "      <td>-0.087313</td>\n",
       "      <td>-3.333787</td>\n",
       "      <td>-0.034663</td>\n",
       "      <td>2.683058</td>\n",
       "    </tr>\n",
       "    <tr>\n",
       "      <th>2022-11-17</th>\n",
       "      <td>平安短债A</td>\n",
       "      <td>1.1436</td>\n",
       "      <td>-0.061173</td>\n",
       "      <td>-4.420734</td>\n",
       "      <td>-0.277055</td>\n",
       "      <td>2.601830</td>\n",
       "    </tr>\n",
       "    <tr>\n",
       "      <th>2022-11-18</th>\n",
       "      <td>平安短债A</td>\n",
       "      <td>1.1438</td>\n",
       "      <td>0.017489</td>\n",
       "      <td>-4.321913</td>\n",
       "      <td>-0.242434</td>\n",
       "      <td>2.601363</td>\n",
       "    </tr>\n",
       "  </tbody>\n",
       "</table>\n",
       "</div>"
      ],
      "text/plain": [
       "           SEC_NAME     NAV  NAV_ADJ_RETURN1  RETURN_1M  RETURN_3M  RETURN_1Y\n",
       "2022-11-07    平安短债A  1.1488         0.008705   2.492929   1.922233   3.170184\n",
       "2022-11-08    平安短债A  1.1486        -0.017409   2.283034   1.710601   3.124439\n",
       "2022-11-09    平安短债A  1.1485        -0.008706   2.178233   1.710751   3.124719\n",
       "2022-11-10    平安短债A  1.1482        -0.026121   1.031175   1.570145   3.070018\n",
       "2022-11-11    平安短债A  1.1478        -0.034837   0.514333   1.500236   3.034111\n",
       "2022-11-14    平安短债A  1.1463        -0.130685  -1.325670   0.974999   2.890225\n",
       "2022-11-15    平安短债A  1.1453        -0.087237  -2.334451   0.416772   2.791240\n",
       "2022-11-16    平安短债A  1.1443        -0.087313  -3.333787  -0.034663   2.683058\n",
       "2022-11-17    平安短债A  1.1436        -0.061173  -4.420734  -0.277055   2.601830\n",
       "2022-11-18    平安短债A  1.1438         0.017489  -4.321913  -0.242434   2.601363"
      ]
     },
     "execution_count": 1,
     "metadata": {},
     "output_type": "execute_result"
    }
   ],
   "source": [
    "from WindPy import w\n",
    "from datetime import datetime, timedelta\n",
    "w.start()\n",
    "date = '2022-11-18'\n",
    "code = ['005754.OF', '005756.OF', '008911.OF', '008913.OF', '007935.OF', '007936.OF', '008696.OF', '004827.OF', '006851.OF']\n",
    "w.wsd(code[0], \"sec_name,nav,NAV_adj_return1,return_1m,return_3m,return_1y\", '2022-11-5', '2022-11-18', \"annualized=1\", usedf=True)[1]"
   ]
  },
  {
   "cell_type": "code",
   "execution_count": 1,
   "metadata": {},
   "outputs": [],
   "source": [
    "from WindPy import w\n",
    "import pandas as pd\n",
    "import numpy as np\n",
    "from datetime import datetime, timedelta\n",
    "try:\n",
    "    from typing import Literal\n",
    "except ImportError:\n",
    "    from typing_extensions import Literal\n",
    "from dateutil.relativedelta import relativedelta"
   ]
  },
  {
   "cell_type": "code",
   "execution_count": 5,
   "metadata": {},
   "outputs": [
    {
     "name": "stdout",
     "output_type": "stream",
     "text": [
      "Welcome to use Wind Quant API for Python (WindPy)!\n",
      "\n",
      "COPYRIGHT (C) 2020 WIND INFORMATION CO., LTD. ALL RIGHTS RESERVED.\n",
      "IN NO CIRCUMSTANCE SHALL WIND BE RESPONSIBLE FOR ANY DAMAGES OR LOSSES CAUSED BY USING WIND QUANT API FOR Python.\n"
     ]
    }
   ],
   "source": [
    "\n",
    "class Wind_Exporter:\n",
    "    \"\"\"\n",
    "    Wind_Exporter\n",
    "    =====\n",
    "    code: list\n",
    "        股票代码, 例如['000001.SZ', '000002.SZ']\n",
    "    indicator: str\n",
    "        指标, 例如'close'\n",
    "    method: str (default: 'wsd')\n",
    "        wsd: 单日期 \n",
    "        wss: 日期截面数据\n",
    "    Date_List: list (default: None)\n",
    "        日期列表, 例如['2020-01-01', '2020-01-02']\n",
    "    StartDate: str (default: None)\n",
    "        起始日期, 例如'2020-01-01'\n",
    "    EndDate: str (default: None)\n",
    "        结束日期, 例如'2020-01-02'\n",
    "    options: str (default: None)\n",
    "        选项, 遵循Wind API的options参数\n",
    "    \"\"\"\n",
    "\n",
    "    def __init__(self, code=None, indicator: str = None, method: Literal['wsd', 'wss'] = 'wsd', \n",
    "                    Date_List: list = None, StartDate: Literal['before1m', 'before1y', None] = None, EndDate=None, options=None):\n",
    "        self.method = method\n",
    "        self.code = code if isinstance(code, list) else [\n",
    "            i for i in code.split(',')]\n",
    "        self.EndDate = EndDate if EndDate else datetime.today().strftime('%Y-%m-%d')\n",
    "        self.Date_List = Date_List\n",
    "        self.StartDate = EndDate if StartDate is None else StartDate\n",
    "        self.set_date()\n",
    "        self.indicator = indicator\n",
    "        self.options = options\n",
    "        self.data = []\n",
    "\n",
    "    def __len__(self):\n",
    "        return len(self.data)\n",
    "\n",
    "    def __repr__(self):\n",
    "        return f'Wind_Exporter({self.code}, {self.indicator}, {self.method}, {self.Date_List}, {self.StartDate}, {self.EndDate}, {self.options}), With data length {len(self)}'\n",
    "\n",
    "    def check_connection(func):\n",
    "        if not w.isconnected():\n",
    "            w.start()\n",
    "        return func\n",
    "\n",
    "    @staticmethod\n",
    "    def create_date_col(df, date):\n",
    "        df['date'] = date\n",
    "        column = np.roll(np.arange(len(df.columns)), 1)\n",
    "        column[0], column[1] = column[1], column[0]\n",
    "        return df.iloc[:, column]\n",
    "    \n",
    "\n",
    "#my_dict = {'code':['005754.OF', '005756.OF', '008911.OF', '008913.OF', '007935.OF', '007936.OF', '008696.OF', '004827.OF', '006851.OF'],\n",
    "            # 'indicator':\"sec_name,nav_date,nav,NAV_adj_return1,return_1m,return_3m,return_1y\", 'options':\"annualized=1\", 'method':\"wsd\"}\n",
    "    @classmethod\n",
    "    def from_dict(cls, data: dict):\n",
    "        return cls(**data) \n",
    "        \n",
    "\n",
    "    def set_date(self):\n",
    "        date_before_1m = (datetime.strptime(self.EndDate, '%Y-%m-%d') -\n",
    "                          relativedelta(months=1) + relativedelta(days=1)).strftime('%Y%m%d')\n",
    "        date_before_1y = (datetime.strptime(self.EndDate, '%Y-%m-%d') -\n",
    "                          relativedelta(years=1) + relativedelta(days=1)).strftime('%Y%m%d')\n",
    "        if self.StartDate == 'before1m':\n",
    "            self.StartDate = date_before_1m\n",
    "        elif self.StartDate == 'before1y':\n",
    "            self.StartDate = date_before_1y\n",
    "        else:\n",
    "            pass\n",
    "\n",
    "    @check_connection\n",
    "    def get_data(self, output: Literal['df', 'excel'] = None, round_=None):\n",
    "        if self.method == 'wsd':\n",
    "            self.get_data_wsd()\n",
    "        elif self.method == 'wss':\n",
    "            self.get_data_wss()\n",
    "        else:\n",
    "            raise ValueError('method must be wsd or wss')\n",
    "\n",
    "        if round_ is not None:\n",
    "            for i in range(len(self.data)):\n",
    "                self.data[i] = self.data[i].round(round_)\n",
    "        if output == 'df':\n",
    "            return self.data\n",
    "        elif output == 'excel':\n",
    "            pass\n",
    "        else:\n",
    "            return self\n",
    "\n",
    "    def get_data_wsd(self):\n",
    "        if self.Date_List is None:\n",
    "            if self.StartDate == self.EndDate:\n",
    "                multi_data = []\n",
    "                for i in self.code:\n",
    "                    data_ = w.wsd(i, self.indicator, self.StartDate,\n",
    "                                  self.EndDate, options=self.options, usedf=True)\n",
    "                    multi_data.append(data_[1])\n",
    "                self.data.append(pd.concat(multi_data, axis=0))\n",
    "            else:\n",
    "                multi_data = []\n",
    "                for i in self.code:\n",
    "                    data_ = w.wsd(i, self.indicator, self.StartDate,\n",
    "                                  self.EndDate, options=self.options, usedf=True)\n",
    "                    multi_data.append(data_[1])\n",
    "                self.data.append(multi_data)\n",
    "        else:\n",
    "            for date in self.Date_List:\n",
    "                multi_data = []\n",
    "                for i in self.code:\n",
    "                    data_ = w.wsd(i, self.indicator, date, date,\n",
    "                                  options=self.options, usedf=True)\n",
    "                    multi_data.append(data_[1])\n",
    "                self.data.append(pd.concat(multi_data, axis=0))\n",
    "        return self\n",
    "\n",
    "# w.wss(\"002450.OF\",\"NAV_adj_return\",\"startDate=20221117;endDate=20221118\")\n",
    "# w.wss(\"009878.OF\", \"sec_name\",\"startDate=20221117;endDate=20221118\")\n",
    "\n",
    "    @check_connection\n",
    "    def combine_wss(self, group_data: list):\n",
    "        for i in group_data:\n",
    "            data_ = []\n",
    "            for j in i:\n",
    "                data_.append(j[1])\n",
    "            data_ = pd.concat(data_, axis=1)\n",
    "            self.data.append(data_)\n",
    "        return self\n",
    "\n",
    "    def get_data_wss(self):\n",
    "        self.StartDate = self.StartDate.replace('-', '')\n",
    "        self.EndDate = self.EndDate.replace('-', '')\n",
    "        args = [self.options, self.StartDate, self.EndDate]\n",
    "        if self.options is None:\n",
    "            args = args[1:]\n",
    "        options = f'startDate={args[0]};endDate={args[1]};tradeDate={args[1]}' if len(\n",
    "            args) == 2 else f'{args[0]};startDate={args[1]};endDate={args[2]};tradeDate={args[2]}'\n",
    "        print(options)\n",
    "        data_ = w.wss(self.code, self.indicator, options=options, usedf=True)\n",
    "        self.data.append(data_[1])\n",
    "        return self\n",
    "\n",
    "    def add_data(self, we_obj, method: Literal['concat', 'append'] = 'concat', round_=None):\n",
    "        if method == 'concat':\n",
    "            we_obj.get_data(round_=round_)\n",
    "            self.data[-1] = pd.concat([self.data[-1], we_obj.data[-1]], axis=1)\n",
    "        elif method == 'append':\n",
    "            we_obj.get_data(round_=round_)\n",
    "            for i in we_obj.data:\n",
    "                self.data.append(i)\n",
    "        else:\n",
    "            raise ValueError('method must be concat or append')\n",
    "        return self\n",
    "\n",
    "    def excel_export(self, path=None, sheet_name: list = None, column_name: list = None):\n",
    "        \"\"\"\n",
    "        导出为Excel\n",
    "        =====\n",
    "        path: str (default: None)\n",
    "            导出路径, 例如'./data.xlsx', 默认为None, 会在output目录下生成{日期/开始日期_结束日期}.xlsx\n",
    "        sheet_name: list (default: None)\n",
    "            sheet名称, 例如['sheet1', 'sheet2'], 默认为None, 会使用工作簿数量作为sheet名称\n",
    "        column_name: list (default: None)\n",
    "            列名称, 二维数组, 例如[['col1', 'col2'], ['col1', 'col2']], 默认为None, 会使用Wind默认列名称\n",
    "        \"\"\"\n",
    "        if path is None:\n",
    "            if self.Date_List is None:\n",
    "                if self.StartDate == self.EndDate:\n",
    "                    path = f'./output/{self.EndDate}.xlsx'\n",
    "                else:\n",
    "                    path = f'./output/{self.StartDate}_{self.EndDate}.xlsx'\n",
    "            else:\n",
    "                path = f'./output/{self.Date_List[0]}.xlsx'\n",
    "        if sheet_name is None:\n",
    "            sheet_name = np.arange(len(self.data)) + 1\n",
    "        if column_name is not None:\n",
    "            try:\n",
    "                _ = column_name[0][0]\n",
    "            except:\n",
    "                raise ValueError('column_name 应当是二维列表')\n",
    "            for i, data in enumerate(self.data):\n",
    "                try:\n",
    "                    data.columns = column_name[i]\n",
    "                    print(column_name[i])\n",
    "                    print('更名完成')\n",
    "                except:\n",
    "                    raise ValueError('列名数与数据不匹配')\n",
    "        with pd.ExcelWriter(path, datetime_format='YYYY-MM-DD') as writer:\n",
    "            for i in enumerate(self.data):\n",
    "                i[1].to_excel(writer, sheet_name=sheet_name[i[0]])\n",
    "        return self"
   ]
  },
  {
   "cell_type": "code",
   "execution_count": 6,
   "metadata": {},
   "outputs": [
    {
     "name": "stdout",
     "output_type": "stream",
     "text": [
      "annualized=0;startDate=20221124;endDate=20221124;tradeDate=20221124\n",
      "annualized=0;startDate=20221025;endDate=20221124;tradeDate=20221124\n",
      "startDate=20211125;endDate=20221124;tradeDate=20221124\n"
     ]
    },
    {
     "data": {
      "text/plain": [
       "Wind_Exporter(['005754.OF', '005756.OF', '008911.OF', '008913.OF', '007935.OF', '007936.OF', '008696.OF', '004827.OF', '006851.OF'], sec_name,nav_date,nav,NAV_adj_return1,return_1m,return_3m,return_1y, wsd, None, 2022-11-24, 2022-11-24, annualized=1), With data length 5"
      ]
     },
     "execution_count": 6,
     "metadata": {},
     "output_type": "execute_result"
    }
   ],
   "source": [
    "code_for_zhai = ['005754.OF', '005756.OF', '008911.OF', '008913.OF', '007935.OF', '007936.OF', '008696.OF', '004827.OF', '006851.OF']\n",
    "code_for_ETF = ['516760.OF', '516820.OF', '515700.OF', '561600.OF']\n",
    "code_cundan_str = \"\"\"015645.OF,015644.OF,015826.OF,015862.OF,014437.OF,015823.OF,015648.OF,014427.OF,015822.OF,015647.OF,015875.OF,\n",
    "                        014426.OF,015864.OF,015861.OF,015646.OF,015643.OF,014430.OF,015956.OF,015825.OF,014428.OF,015827.OF,015863.OF,014429.OF,015944.OF,015955.OF,016082.OF,016063.OF,016083.OF\"\"\"\n",
    "code_for_meiri_str = \"\"\"002450.OF,004827.OF,015645.OF,008694.OF,005754.OF,700003.OF,000739.OF,007935.OF,009661.OF,009878.OF,\n",
    "                        010126.OF,014460.OF,013767.OF,013687.OF,004390.OF,012475.OF,007893.OF,885001.WI\"\"\"\n",
    "\n",
    "choice_data = \"2022-11-24\"\n",
    "a = Wind_Exporter(code=code_for_zhai, indicator=\"sec_name,nav_date,nav,NAV_adj_return1,return_1m,return_3m,return_1y\",options=\"annualized=1\",method=\"wsd\",EndDate=choice_data)\n",
    "b = Wind_Exporter(code=code_for_ETF, indicator=\"sec_name,nav_date,nav,NAV_adj_return1,return_1w,return_1m\",options=\"annualized=1\",method=\"wsd\",EndDate=choice_data)\n",
    "c = Wind_Exporter(code=\"015645.OF\", indicator=\"sec_name,nav_date,nav,NAV_adj_return1,return_1w,return_1m\",options=\"annualized=1\",method=\"wsd\",EndDate=choice_data)\n",
    "d = Wind_Exporter(code=code_cundan_str, indicator=\"sec_name,nav_date,return,risk_annualintervalyield,issue_date,fund_setupdate\",options=\"annualized=0\",method=\"wss\",EndDate=choice_data)\n",
    "e = Wind_Exporter(code=code_for_meiri_str, indicator=\"sec_name,nav_date,nav,NAV_adj_return1,NAV_adj_return,return_ytd\",options=\"annualized=0\",method=\"wss\",StartDate=\"before1m\",EndDate=choice_data)\n",
    "e_ = Wind_Exporter(code=code_for_meiri_str, indicator=\"NAV_adj_return\",method=\"wss\",StartDate=\"before1y\",EndDate=choice_data)\n",
    "a.get_data(round_=4).add_data(b, method='append',round_=4).add_data(c, method='append',round_=4).add_data(d, method='append',round_=4).add_data(e, method='append',round_=4).add_data(e_, method='concat',round_=4)\n"
   ]
  },
  {
   "cell_type": "code",
   "execution_count": null,
   "metadata": {},
   "outputs": [],
   "source": [
    "a.data[3]"
   ]
  },
  {
   "cell_type": "code",
   "execution_count": 52,
   "metadata": {},
   "outputs": [
    {
     "data": {
      "text/plain": [
       "Wind_Exporter(['005754.OF', '005756.OF', '008911.OF', '008913.OF', '007935.OF', '007936.OF', '008696.OF', '004827.OF', '006851.OF'], sec_name,nav_date,nav,NAV_adj_return1,return_1m,return_3m,return_1y, wsd, None, 2022-11-24, 2022-11-24, annualized=1), With data length 5"
      ]
     },
     "execution_count": 52,
     "metadata": {},
     "output_type": "execute_result"
    }
   ],
   "source": [
    "a.excel_export(sheet_name=['债', 'ETF', '同业', '存单', '每日'], column_name=[['证券简称', '基金净值日期','单位净值', '当期复权单位净值增长率', '近1月回报', '近3月回报', '近1年回报'],\n",
    "                ['证券简称', '基金净值日期','单位净值', '当期复权单位净值增长率', '近1周回报', '近1月回报'],['证券简称', '基金净值日期','单位净值', '当期复权单位净值增长率', '近1周回报', '近1月回报'],\n",
    "                ['证券简称', '基金净值日期','区间回报', '区间收益率', '发行日期', '基金成立日'], ['证券简称', '基金净值日期','单位净值', '当期复权单位净值增长率', '复权单位净值增长率(截止日1月前)', '今年以来回报', '复权单位净值增长率(截止日1年前)']],\n",
    "                path='./output/{}.xlsx'.format(choice_data))"
   ]
  },
  {
   "cell_type": "code",
   "execution_count": 1,
   "metadata": {},
   "outputs": [
    {
     "name": "stdout",
     "output_type": "stream",
     "text": [
      "Welcome to use Wind Quant API for Python (WindPy)!\n",
      "\n",
      "COPYRIGHT (C) 2020 WIND INFORMATION CO., LTD. ALL RIGHTS RESERVED.\n",
      "IN NO CIRCUMSTANCE SHALL WIND BE RESPONSIBLE FOR ANY DAMAGES OR LOSSES CAUSED BY USING WIND QUANT API FOR Python.\n"
     ]
    },
    {
     "data": {
      "text/plain": [
       "Wind_Exporter(['002450.OF', '004827.OF', '015645.OF', '008694.OF', '005754.OF', '700003.OF', '000739.OF', '007935.OF', '009661.OF', '009878.OF', '010126.OF', '014460.OF', '013767.OF', '013687.OF', '004390.OF', '012475.OF', '007893.OF', '885001.WI'], NAV_adj_return, wss, None, 20211125, 20221124, None), With data length 1"
      ]
     },
     "execution_count": 1,
     "metadata": {},
     "output_type": "execute_result"
    }
   ],
   "source": [
    "from wdpcore import Wind_Exporter\n",
    "# code = [[w.wss(\"516760.OF,516820.OF,515700.OF,561600.OF\", \"swing\",\"tradeDate=20221122;cycle=D\", usedf=True)],\n",
    "# [w.wss(\"002450.OF\",\"NAV_adj_return\",\"startDate=20221117;endDate=20221118\", usedf=True),w.wss(\"009878.OF\", \"sec_name\",\"startDate=20221117;endDate=20221118\", usedf=True)]]\n",
    "code = ['002450.OF','009878.OF']\n",
    "code_for_meiri_str = \"\"\"002450.OF,004827.OF,015645.OF,008694.OF,005754.OF,700003.OF,000739.OF,007935.OF,009661.OF,009878.OF,010126.OF,014460.OF,013767.OF,013687.OF,004390.OF,012475.OF,007893.OF,885001.WI\"\"\"\n",
    "# a = Wind_Exporter(method='wss', code=code_for_meiri_str, indicator=\"sec_name,nav_date,nav,NAV_adj_return1,NAV_adj_return,return_ytd\",StartDate='before1m',EndDate='2022-11-24',options=\"annualized=0\")\n",
    "b = Wind_Exporter(method='wss', code=code_for_meiri_str, indicator=\"NAV_adj_return\",StartDate=\"before1y\",EndDate='2022-11-24')\n",
    "b.get_data()\n"
   ]
  },
  {
   "cell_type": "code",
   "execution_count": 2,
   "metadata": {},
   "outputs": [
    {
     "data": {
      "text/plain": [
       "Wind_Exporter(['002450.OF', '004827.OF', '015645.OF', '008694.OF', '005754.OF', '700003.OF', '000739.OF', '007935.OF', '009661.OF', '009878.OF', '010126.OF', '014460.OF', '013767.OF', '013687.OF', '004390.OF', '012475.OF', '007893.OF', '885001.WI'], NAV_adj_return, wss, None, 20211125, 20221124, None), With data length 1"
      ]
     },
     "execution_count": 2,
     "metadata": {},
     "output_type": "execute_result"
    }
   ],
   "source": [
    "b.excel_export()"
   ]
  },
  {
   "cell_type": "code",
   "execution_count": 11,
   "metadata": {},
   "outputs": [
    {
     "data": {
      "text/plain": [
       "'2022-12-01'"
      ]
     },
     "execution_count": 11,
     "metadata": {},
     "output_type": "execute_result"
    }
   ],
   "source": [
    "import datetime as dt\n",
    "dt.datetime.today().strftime('%Y-%m-%d')"
   ]
  },
  {
   "cell_type": "code",
   "execution_count": 5,
   "metadata": {},
   "outputs": [
    {
     "data": {
      "text/plain": [
       ".ErrorCode=0\n",
       ".Codes=[]\n",
       ".Fields=[]\n",
       ".Times=[20221124]\n",
       ".Data=[[2022-11-24 00:00:00]]"
      ]
     },
     "execution_count": 5,
     "metadata": {},
     "output_type": "execute_result"
    }
   ],
   "source": [
    "import datetime\n",
    "from WindPy import w\n",
    "today = datetime.date.today() \n",
    "w.tdaysoffset(-5, today, \"Period=D;Days=Trading\")"
   ]
  },
  {
   "cell_type": "code",
   "execution_count": 15,
   "metadata": {},
   "outputs": [
    {
     "data": {
      "text/plain": [
       "[[datetime.datetime(2022, 11, 17, 0, 0)]]"
      ]
     },
     "execution_count": 15,
     "metadata": {},
     "output_type": "execute_result"
    }
   ],
   "source": [
    "import datetime\n",
    "from WindPy import w\n",
    "today = datetime.date.today() \n",
    "w.tdaysoffset(-10, today, \"Period=D;Days=Trading\").Data"
   ]
  },
  {
   "cell_type": "code",
   "execution_count": 5,
   "metadata": {},
   "outputs": [
    {
     "data": {
      "text/plain": [
       "'20221124'"
      ]
     },
     "execution_count": 5,
     "metadata": {},
     "output_type": "execute_result"
    }
   ],
   "source": [
    "b.EndDate"
   ]
  },
  {
   "cell_type": "code",
   "execution_count": null,
   "metadata": {},
   "outputs": [],
   "source": []
  },
  {
   "cell_type": "code",
   "execution_count": 33,
   "metadata": {},
   "outputs": [
    {
     "name": "stdout",
     "output_type": "stream",
     "text": [
      "startDate=20211125;endDate=20221124;tradeDate=20221124\n"
     ]
    },
    {
     "data": {
      "text/plain": [
       "Wind_Exporter(['002450.OF', '004827.OF', '015645.OF', '008694.OF', '005754.OF', '700003.OF', '000739.OF', '007935.OF', '009661.OF', '009878.OF', '010126.OF', '014460.OF', '013767.OF', '013687.OF', '004390.OF', '012475.OF', '007893.OF', '885001.WI'], sec_name,nav_date,nav,NAV_adj_return1,NAV_adj_return,return_ytd, wss, None, 20221025, 20221124, annualized=0), With data length 1"
      ]
     },
     "execution_count": 33,
     "metadata": {},
     "output_type": "execute_result"
    }
   ],
   "source": [
    "a.add_data(b, method='concat',round_=4)\n"
   ]
  },
  {
   "cell_type": "code",
   "execution_count": 1,
   "metadata": {},
   "outputs": [
    {
     "name": "stdout",
     "output_type": "stream",
     "text": [
      "Welcome to use Wind Quant API for Python (WindPy)!\n",
      "\n",
      "COPYRIGHT (C) 2020 WIND INFORMATION CO., LTD. ALL RIGHTS RESERVED.\n",
      "IN NO CIRCUMSTANCE SHALL WIND BE RESPONSIBLE FOR ANY DAMAGES OR LOSSES CAUSED BY USING WIND QUANT API FOR Python.\n"
     ]
    },
    {
     "data": {
      "text/plain": [
       "Wind_Exporter(['005754.OF', '005756.OF', '008911.OF', '008913.OF', '007935.OF', '007936.OF', '008696.OF', '004827.OF', '006851.OF'], sec_name,nav_date,nav,NAV_adj_return1,return_1m,return_3m,return_1y, wsd, None, -21TD, 2022-12-02, annualized=1), With data length 9"
      ]
     },
     "execution_count": 1,
     "metadata": {},
     "output_type": "execute_result"
    }
   ],
   "source": [
    "from WdpCore import Wind_Exporter\n",
    "code_for_zhai = ['005754.OF', '005756.OF', '008911.OF', '008913.OF', '007935.OF', '007936.OF', '008696.OF', '004827.OF', '006851.OF']\n",
    "a = Wind_Exporter(code=code_for_zhai, indicator=\"sec_name,nav_date,nav,NAV_adj_return1,return_1m,return_3m,return_1y\",options=\"annualized=1\",method=\"wsd\",StartDate=\"-21TD\")\n",
    "a.get_data(round_=4)"
   ]
  },
  {
   "cell_type": "code",
   "execution_count": 2,
   "metadata": {},
   "outputs": [
    {
     "data": {
      "text/plain": [
       "Wind_Exporter(['005754.OF', '005756.OF', '007935.OF', '007936.OF'], sec_name,nav_date,nav,NAV_adj_return1,return_1y, wsd, None, -21TD, 2022-12-02, annualized=1), With data length 4"
      ]
     },
     "execution_count": 2,
     "metadata": {},
     "output_type": "execute_result"
    }
   ],
   "source": [
    "from WdpCore import Wind_Exporter\n",
    "code_for_zhai = ['005754.OF', '005756.OF', '007935.OF', '007936.OF']\n",
    "info = [\n",
    "\"\"\"购买信息：\n",
    " A类(005754)申购费率0.10%-0.30%，赎回费率0.00%-1.50%（>30天赎回费率=0）\"\"\",\n",
    "\"\"\"购买信息：\n",
    " E类(005756)销售服务费率0.25%（每年），赎回费率0.00%-1.50%（＞30天赎回费率=0）\"\"\",\n",
    "\"\"\"购买信息：\n",
    " A类(007935)申购费率：M＜100万，费率0.8%；100万≤M＜300万，费率0.50%；300万≤M＜500万，费率0.30%；M≥500万，每笔1000元；赎回费率：0.00%-1.50%（≥30天赎回费率=0）\"\"\",\n",
    "\"\"\"购买信息：\n",
    " C类(007936)销售服务费率0.50%（每年）；赎回费率：0.00%-1.50%（≥30天赎回费率=0）\"\"\"]\n",
    "a = Wind_Exporter(code=code_for_zhai, indicator=\"sec_name,nav_date,nav,NAV_adj_return1,return_1y\",options=\"annualized=1\",method=\"wsd\",StartDate=\"-21TD\")\n",
    "a.get_data()"
   ]
  },
  {
   "cell_type": "code",
   "execution_count": 3,
   "metadata": {},
   "outputs": [],
   "source": [
    "data = []\n",
    "for i,code in enumerate(code_for_zhai):\n",
    "    b = a.data[i].sort_values(by='NAV_DATE', ascending=False)\n",
    "    name = b['SEC_NAME'].iloc[0]\n",
    "    b.NAV_ADJ_RETURN1 = (b.NAV_ADJ_RETURN1/100).round(4)\n",
    "    b.RETURN_1Y = (b.RETURN_1Y/100).round(4)\n",
    "    data.append([b,name,code])"
   ]
  },
  {
   "cell_type": "code",
   "execution_count": 16,
   "metadata": {},
   "outputs": [],
   "source": [
    "import xlwings as xw\n",
    "import datetime as dt\n",
    "# invisible_app = xw.App(visible=False)\n",
    "# book = invisible_app.books.open('./template/zhai_tem.xlsx')\n",
    "book = xw.Book('./template/zhai2_tem.xlsx')"
   ]
  },
  {
   "cell_type": "code",
   "execution_count": 17,
   "metadata": {},
   "outputs": [],
   "source": [
    "for i in range(len(data)//2):\n",
    "    i_ = i*2\n",
    "    sheet_ = book.sheets[0]\n",
    "    sheet_.name = data[i_][1]\n",
    "    sheet_[\"A4\"].options(index=False, header=False).value = data[i_][0].sort_values(by='NAV_DATE', ascending=False).loc[:,[\"NAV_DATE\",\"NAV\",\"NAV_ADJ_RETURN1\"]]\n",
    "    sheet_[\"F4\"].options(index=False, header=False).value = data[i_][0].sort_values(by='NAV_DATE', ascending=False).loc[:,[\"RETURN_1Y\"]]\n",
    "    sheet_[\"A1\"].value = f\"{data[i_][1]}（{data[i_][2].replace('.OF','')}）收益情况播报\"\n",
    "    sheet_[\"A26\"].value = info[i]\n",
    "\n",
    "    sheet_[\"A31\"].options(index=False, header=False).value = data[i_+1][0].sort_values(by='NAV_DATE', ascending=False).loc[:,[\"NAV_DATE\",\"NAV\",\"NAV_ADJ_RETURN1\"]]\n",
    "    sheet_[\"F31\"].options(index=False, header=False).value = data[i_+1][0].sort_values(by='NAV_DATE', ascending=False).loc[:,[\"RETURN_1Y\"]]\n",
    "    sheet_[\"A28\"].value = f\"{data[i_+1][1]}（{data[i_+1][2].replace('.OF','')}）收益情况播报\"\n",
    "    sheet_[\"A53\"].value = info[i+1]\n",
    "    sheet_.copy()\n",
    "# book.save(f\"./output/债券基金收益情况播报_{dt.datetime.now().strftime('%Y-%m-%d')}.xlsx\")\n",
    "# invisible_app.quit()"
   ]
  },
  {
   "cell_type": "code",
   "execution_count": 14,
   "metadata": {},
   "outputs": [],
   "source": [
    "sheet_[\"A53\"].rows.autofit()"
   ]
  },
  {
   "cell_type": "code",
   "execution_count": null,
   "metadata": {},
   "outputs": [],
   "source": [
    "book.close()"
   ]
  },
  {
   "cell_type": "code",
   "execution_count": 58,
   "metadata": {},
   "outputs": [],
   "source": [
    "for n,i in enumerate(data):\n",
    "    sheet_ = book.sheets[0]\n",
    "\n",
    "    sheet_.name = i[1]\n",
    "    sheet_[\"A4\"].options(index=False, header=False).value = i[0].sort_values(by='NAV_DATE', ascending=False).loc[:,[\"NAV_DATE\",\"NAV\",\"NAV_ADJ_RETURN1\"]]\n",
    "    sheet_[\"F4\"].options(index=False, header=False).value = i[0].sort_values(by='NAV_DATE', ascending=False).loc[:,[\"RETURN_1Y\"]]\n",
    "    sheet_[\"A1\"].value = f\"{i[1]}（{i[2].replace('.OF','')}）收益情况播报\"\n",
    "    sheet_[\"A26\"].value = info[n]\n",
    "    sheet_.copy()\n",
    "book.save(f\"./output/债券基金收益情况播报_{dt.datetime.now().strftime('%Y-%m-%d')}.xlsx\")\n",
    "invisible_app.quit()"
   ]
  },
  {
   "cell_type": "code",
   "execution_count": null,
   "metadata": {},
   "outputs": [],
   "source": []
  },
  {
   "cell_type": "code",
   "execution_count": null,
   "metadata": {},
   "outputs": [],
   "source": [
    "str.replace(\".OF\",\"\")"
   ]
  },
  {
   "cell_type": "code",
   "execution_count": 21,
   "metadata": {},
   "outputs": [],
   "source": [
    "sheet1[\"A26\"].value = \"\"\"购买信息：\n",
    " A类(005754)申购费率0.10%-0.30%，赎回费率0.00%-1.50%（>30天赎回费率=0）\"\"\"\n",
    "\n",
    "book.sheets\n",
    "\n",
    "\n",
    "book.save('./1.xlsx')"
   ]
  },
  {
   "cell_type": "code",
   "execution_count": 26,
   "metadata": {},
   "outputs": [
    {
     "data": {
      "text/plain": [
       "Sheets([<Sheet [1.xlsx]平安短债（近1年）>, <Sheet [1.xlsx]平安短债（近1年） (2)>, <Sheet [1.xlsx]平安短债（近1年） (3)>])"
      ]
     },
     "execution_count": 26,
     "metadata": {},
     "output_type": "execute_result"
    }
   ],
   "source": [
    "book.sheets.\n"
   ]
  },
  {
   "cell_type": "code",
   "execution_count": 35,
   "metadata": {},
   "outputs": [
    {
     "data": {
      "text/html": [
       "<div>\n",
       "<style scoped>\n",
       "    .dataframe tbody tr th:only-of-type {\n",
       "        vertical-align: middle;\n",
       "    }\n",
       "\n",
       "    .dataframe tbody tr th {\n",
       "        vertical-align: top;\n",
       "    }\n",
       "\n",
       "    .dataframe thead th {\n",
       "        text-align: right;\n",
       "    }\n",
       "</style>\n",
       "<table border=\"1\" class=\"dataframe\">\n",
       "  <thead>\n",
       "    <tr style=\"text-align: right;\">\n",
       "      <th></th>\n",
       "      <th>SEC_NAME</th>\n",
       "      <th>NAV_DATE</th>\n",
       "      <th>NAV</th>\n",
       "      <th>NAV_ADJ_RETURN1</th>\n",
       "      <th>RETURN_1Y</th>\n",
       "    </tr>\n",
       "  </thead>\n",
       "  <tbody>\n",
       "    <tr>\n",
       "      <th>2022-12-01</th>\n",
       "      <td>平安短债A</td>\n",
       "      <td>2022-12-01</td>\n",
       "      <td>1.1447</td>\n",
       "      <td>-0.0002</td>\n",
       "      <td>0.0255</td>\n",
       "    </tr>\n",
       "    <tr>\n",
       "      <th>2022-11-30</th>\n",
       "      <td>平安短债A</td>\n",
       "      <td>2022-11-30</td>\n",
       "      <td>1.1449</td>\n",
       "      <td>-0.0002</td>\n",
       "      <td>0.0258</td>\n",
       "    </tr>\n",
       "    <tr>\n",
       "      <th>2022-11-29</th>\n",
       "      <td>平安短债A</td>\n",
       "      <td>2022-11-29</td>\n",
       "      <td>1.1451</td>\n",
       "      <td>-0.0004</td>\n",
       "      <td>0.0260</td>\n",
       "    </tr>\n",
       "    <tr>\n",
       "      <th>2022-11-28</th>\n",
       "      <td>平安短债A</td>\n",
       "      <td>2022-11-28</td>\n",
       "      <td>1.1456</td>\n",
       "      <td>0.0002</td>\n",
       "      <td>0.0266</td>\n",
       "    </tr>\n",
       "    <tr>\n",
       "      <th>2022-11-25</th>\n",
       "      <td>平安短债A</td>\n",
       "      <td>2022-11-25</td>\n",
       "      <td>1.1454</td>\n",
       "      <td>0.0002</td>\n",
       "      <td>0.0267</td>\n",
       "    </tr>\n",
       "    <tr>\n",
       "      <th>2022-11-24</th>\n",
       "      <td>平安短债A</td>\n",
       "      <td>2022-11-24</td>\n",
       "      <td>1.1452</td>\n",
       "      <td>0.0008</td>\n",
       "      <td>0.0266</td>\n",
       "    </tr>\n",
       "    <tr>\n",
       "      <th>2022-11-23</th>\n",
       "      <td>平安短债A</td>\n",
       "      <td>2022-11-23</td>\n",
       "      <td>1.1443</td>\n",
       "      <td>0.0003</td>\n",
       "      <td>0.0259</td>\n",
       "    </tr>\n",
       "    <tr>\n",
       "      <th>2022-11-22</th>\n",
       "      <td>平安短债A</td>\n",
       "      <td>2022-11-22</td>\n",
       "      <td>1.1440</td>\n",
       "      <td>-0.0001</td>\n",
       "      <td>0.0258</td>\n",
       "    </tr>\n",
       "    <tr>\n",
       "      <th>2022-11-21</th>\n",
       "      <td>平安短债A</td>\n",
       "      <td>2022-11-21</td>\n",
       "      <td>1.1441</td>\n",
       "      <td>0.0003</td>\n",
       "      <td>0.0262</td>\n",
       "    </tr>\n",
       "    <tr>\n",
       "      <th>2022-11-18</th>\n",
       "      <td>平安短债A</td>\n",
       "      <td>2022-11-18</td>\n",
       "      <td>1.1438</td>\n",
       "      <td>0.0002</td>\n",
       "      <td>0.0260</td>\n",
       "    </tr>\n",
       "    <tr>\n",
       "      <th>2022-11-17</th>\n",
       "      <td>平安短债A</td>\n",
       "      <td>2022-11-17</td>\n",
       "      <td>1.1436</td>\n",
       "      <td>-0.0006</td>\n",
       "      <td>0.0260</td>\n",
       "    </tr>\n",
       "    <tr>\n",
       "      <th>2022-11-16</th>\n",
       "      <td>平安短债A</td>\n",
       "      <td>2022-11-16</td>\n",
       "      <td>1.1443</td>\n",
       "      <td>-0.0009</td>\n",
       "      <td>0.0268</td>\n",
       "    </tr>\n",
       "    <tr>\n",
       "      <th>2022-11-15</th>\n",
       "      <td>平安短债A</td>\n",
       "      <td>2022-11-15</td>\n",
       "      <td>1.1453</td>\n",
       "      <td>-0.0009</td>\n",
       "      <td>0.0279</td>\n",
       "    </tr>\n",
       "    <tr>\n",
       "      <th>2022-11-14</th>\n",
       "      <td>平安短债A</td>\n",
       "      <td>2022-11-14</td>\n",
       "      <td>1.1463</td>\n",
       "      <td>-0.0013</td>\n",
       "      <td>0.0289</td>\n",
       "    </tr>\n",
       "    <tr>\n",
       "      <th>2022-11-11</th>\n",
       "      <td>平安短债A</td>\n",
       "      <td>2022-11-11</td>\n",
       "      <td>1.1478</td>\n",
       "      <td>-0.0003</td>\n",
       "      <td>0.0303</td>\n",
       "    </tr>\n",
       "    <tr>\n",
       "      <th>2022-11-10</th>\n",
       "      <td>平安短债A</td>\n",
       "      <td>2022-11-10</td>\n",
       "      <td>1.1482</td>\n",
       "      <td>-0.0003</td>\n",
       "      <td>0.0307</td>\n",
       "    </tr>\n",
       "    <tr>\n",
       "      <th>2022-11-09</th>\n",
       "      <td>平安短债A</td>\n",
       "      <td>2022-11-09</td>\n",
       "      <td>1.1485</td>\n",
       "      <td>-0.0001</td>\n",
       "      <td>0.0312</td>\n",
       "    </tr>\n",
       "    <tr>\n",
       "      <th>2022-11-08</th>\n",
       "      <td>平安短债A</td>\n",
       "      <td>2022-11-08</td>\n",
       "      <td>1.1486</td>\n",
       "      <td>-0.0002</td>\n",
       "      <td>0.0312</td>\n",
       "    </tr>\n",
       "    <tr>\n",
       "      <th>2022-11-07</th>\n",
       "      <td>平安短债A</td>\n",
       "      <td>2022-11-07</td>\n",
       "      <td>1.1488</td>\n",
       "      <td>0.0001</td>\n",
       "      <td>0.0317</td>\n",
       "    </tr>\n",
       "    <tr>\n",
       "      <th>2022-11-04</th>\n",
       "      <td>平安短债A</td>\n",
       "      <td>2022-11-04</td>\n",
       "      <td>1.1487</td>\n",
       "      <td>-0.0001</td>\n",
       "      <td>0.0318</td>\n",
       "    </tr>\n",
       "    <tr>\n",
       "      <th>2022-11-03</th>\n",
       "      <td>平安短债A</td>\n",
       "      <td>2022-11-03</td>\n",
       "      <td>1.1488</td>\n",
       "      <td>0.0000</td>\n",
       "      <td>0.0321</td>\n",
       "    </tr>\n",
       "    <tr>\n",
       "      <th>2022-11-02</th>\n",
       "      <td>平安短债A</td>\n",
       "      <td>2022-11-02</td>\n",
       "      <td>1.1488</td>\n",
       "      <td>0.0002</td>\n",
       "      <td>0.0324</td>\n",
       "    </tr>\n",
       "  </tbody>\n",
       "</table>\n",
       "</div>"
      ],
      "text/plain": [
       "           SEC_NAME   NAV_DATE     NAV  NAV_ADJ_RETURN1  RETURN_1Y\n",
       "2022-12-01    平安短债A 2022-12-01  1.1447          -0.0002     0.0255\n",
       "2022-11-30    平安短债A 2022-11-30  1.1449          -0.0002     0.0258\n",
       "2022-11-29    平安短债A 2022-11-29  1.1451          -0.0004     0.0260\n",
       "2022-11-28    平安短债A 2022-11-28  1.1456           0.0002     0.0266\n",
       "2022-11-25    平安短债A 2022-11-25  1.1454           0.0002     0.0267\n",
       "2022-11-24    平安短债A 2022-11-24  1.1452           0.0008     0.0266\n",
       "2022-11-23    平安短债A 2022-11-23  1.1443           0.0003     0.0259\n",
       "2022-11-22    平安短债A 2022-11-22  1.1440          -0.0001     0.0258\n",
       "2022-11-21    平安短债A 2022-11-21  1.1441           0.0003     0.0262\n",
       "2022-11-18    平安短债A 2022-11-18  1.1438           0.0002     0.0260\n",
       "2022-11-17    平安短债A 2022-11-17  1.1436          -0.0006     0.0260\n",
       "2022-11-16    平安短债A 2022-11-16  1.1443          -0.0009     0.0268\n",
       "2022-11-15    平安短债A 2022-11-15  1.1453          -0.0009     0.0279\n",
       "2022-11-14    平安短债A 2022-11-14  1.1463          -0.0013     0.0289\n",
       "2022-11-11    平安短债A 2022-11-11  1.1478          -0.0003     0.0303\n",
       "2022-11-10    平安短债A 2022-11-10  1.1482          -0.0003     0.0307\n",
       "2022-11-09    平安短债A 2022-11-09  1.1485          -0.0001     0.0312\n",
       "2022-11-08    平安短债A 2022-11-08  1.1486          -0.0002     0.0312\n",
       "2022-11-07    平安短债A 2022-11-07  1.1488           0.0001     0.0317\n",
       "2022-11-04    平安短债A 2022-11-04  1.1487          -0.0001     0.0318\n",
       "2022-11-03    平安短债A 2022-11-03  1.1488           0.0000     0.0321\n",
       "2022-11-02    平安短债A 2022-11-02  1.1488           0.0002     0.0324"
      ]
     },
     "execution_count": 35,
     "metadata": {},
     "output_type": "execute_result"
    }
   ],
   "source": [
    "b"
   ]
  },
  {
   "cell_type": "code",
   "execution_count": 55,
   "metadata": {},
   "outputs": [],
   "source": [
    "import pandas as pd\n",
    "import datetime as dt\n",
    "import numpy as np\n",
    "import xlwings as xw\n",
    "date = dt.datetime.now() - dt.timedelta(days=1)\n",
    "zhai_data = pd.read_excel(f'./output/{date.strftime(\"%Y-%m-%d\")}.xlsx',sheet_name='每日',index_col=0)\n",
    "zhai_data.iloc[:,[1]] = zhai_data.iloc[:,[1]].astype(np.datetime64)\n",
    "etf_data = pd.read_excel(f'./output/{date.strftime(\"%Y-%m-%d\")}.xlsx',sheet_name='ETF',index_col=0)\n",
    "cun_data = pd.read_excel(f'./output/{date.strftime(\"%Y-%m-%d\")}.xlsx',sheet_name='同业',index_col=0)\n",
    "\n",
    "app1 = xw.App(visible=False)\n",
    "app1.display_alerts = False\n",
    "book = app1.books.open('./template/每日播报.xlsm')\n",
    "book.sheets[0][\"A2\"].options(header=False).value = zhai_data\n",
    "book.sheets[1][\"A2\"].options(header=False).value = etf_data\n",
    "book.sheets[1][\"K2\"].value = cun_data[\"近1周回报\"][0]\n",
    "book.sheets[3].activate()\n",
    "book.macro('Automatic.存单').run()\n",
    "book.macro('Automatic.ETF').run()\n",
    "book.macro('Automatic.Copy').run()"
   ]
  },
  {
   "cell_type": "code",
   "execution_count": 55,
   "metadata": {},
   "outputs": [],
   "source": [
    "indicator = \"sec_name,nav,NAV_adj_return1,return_1m,return_3m,return_1y\"\n",
    "date = ['2022-11-18', '2022-11-17']\n",
    "code = ['005754.OF', '005756.OF', '008911.OF', '008913.OF', '007935.OF', '007936.OF', '008696.OF', '004827.OF', '006851.OF']\n",
    "a = Wind_Exporter(code, method='wsd', indicator=indicator, StartDate='before1y', options=\"annualized=1\").get_data()\n",
    "\n"
   ]
  },
  {
   "cell_type": "code",
   "execution_count": 95,
   "metadata": {},
   "outputs": [],
   "source": [
    "import xlwings as xw\n",
    "cun_data = pd.read_excel(f'./output/{date.strftime(\"%Y-%m-%d\")}.xlsx',sheet_name='存单')\n",
    "cun_data_ = cun_data.sort_values(by='区间收益率',ascending=False).iloc[:,[0,1,3,4]]\n",
    "cun_data_['Rank'] = np.arange(1,len(cun_data_)+1)\n",
    "cun_data_ = cun_data_.iloc[:,[4,0,1,2,3]]"
   ]
  },
  {
   "cell_type": "code",
   "execution_count": 101,
   "metadata": {},
   "outputs": [],
   "source": [
    "app1 = xw.App(add_book=False)\n",
    "app1.display_alerts = False\n",
    "book = app1.books.open('./template/全市场同存排名.xlsx')\n",
    "book.sheets[0][\"A3\"].options(index=False,header=False).value = cun_data_\n",
    "i= int(book.sheets[0][\"B34\"].value)\n",
    "book.sheets[0][f\"A{i}:E{i}\"].api.Interior.Color = 65535"
   ]
  },
  {
   "cell_type": "code",
   "execution_count": 104,
   "metadata": {},
   "outputs": [
    {
     "data": {
      "text/plain": [
       "Apps([<Excel App 33888>])"
      ]
     },
     "execution_count": 104,
     "metadata": {},
     "output_type": "execute_result"
    }
   ],
   "source": [
    "xw.apps"
   ]
  },
  {
   "cell_type": "code",
   "execution_count": 9,
   "metadata": {},
   "outputs": [
    {
     "data": {
      "text/plain": [
       "'数据截至12月16日'"
      ]
     },
     "execution_count": 9,
     "metadata": {},
     "output_type": "execute_result"
    }
   ],
   "source": [
    "import pandas as pd\n",
    "import datetime\n",
    "df = pd.read_excel(\"./output/2022-12-16/data/2022-12-16.xlsx\",sheet_name='每日',index_col=0).round(2)\n",
    "date_only5 = datetime.datetime.strptime(df['基金净值日期']['015510.OF'], \"%Y-%m-%d\")\n",
    "dstr = \"数据截至\"+ date_only5.strftime(\"%m\") + \"月\" + date_only5.strftime(\"%d\") + \"日\"\n",
    "dstr"
   ]
  },
  {
   "cell_type": "code",
   "execution_count": 4,
   "metadata": {},
   "outputs": [
    {
     "data": {
      "text/plain": [
       "Wind_Exporter(['015645.OF'], nav_date,nav,NAV_adj_return1,return_1w,return_1m, wsd, None, -22TD, 2022-12-01, annualized=1), With data length 1"
      ]
     },
     "execution_count": 4,
     "metadata": {},
     "output_type": "execute_result"
    }
   ],
   "source": [
    "from WdpCore import Wind_Exporter\n",
    "import datetime as dt\n",
    "import xlwings as xw\n",
    "date = dt.datetime.now() - dt.timedelta(days=1)\n",
    "a = Wind_Exporter(code=\"015645.OF\", indicator=\"nav_date,nav,NAV_adj_return1,return_1w,return_1m\",options=\"annualized=1\",method=\"wsd\",StartDate=\"-22TD\",EndDate=date.strftime(\"%Y-%m-%d\"))\n",
    "a.get_data()"
   ]
  },
  {
   "cell_type": "code",
   "execution_count": 5,
   "metadata": {},
   "outputs": [],
   "source": [
    "b = a.data[0]\n",
    "b.NAV_ADJ_RETURN1 = (b.NAV_ADJ_RETURN1/100).round(4)\n",
    "b.RETURN_1W = (b.RETURN_1W/100).round(4)\n",
    "day30 = b.RETURN_1M[-1]/100"
   ]
  },
  {
   "cell_type": "code",
   "execution_count": 6,
   "metadata": {},
   "outputs": [],
   "source": [
    "b.iloc[:,[0,1,2]]\n",
    "b.RETURN_1W\n",
    "app1 = xw.App(add_book=False)\n",
    "app1.display_alerts = False\n",
    "book = app1.books.open('./template/平安同存收益率.xlsx')\n",
    "sheet_ = book.sheets[0]\n",
    "sheet_[\"A4\"].options(index=False,header=False).value = b.iloc[:,[0,1,2]]\n",
    "sheet_[\"F4\"].options(index=False,header=False).value = b.RETURN_1W\n",
    "sheet_[\"F2\"].value = day30"
   ]
  },
  {
   "cell_type": "code",
   "execution_count": 31,
   "metadata": {},
   "outputs": [],
   "source": [
    "import time\n",
    "import os\n",
    "\n",
    "def get_picture(app,sheet_,range_:str,picture_name:str):\n",
    "    app.books.add()\n",
    "    chart_ = app.books[-1].sheets[0].charts.add(left=0,top=0,width=sheet_[range_].width,height=sheet_[range_].height)\n",
    "    time.sleep(1)\n",
    "    sheet_[range_].api.CopyPicture(Appearance=1,Format=-4147)\n",
    "    chart_.api[1].Paste()\n",
    "    chart_.api[1].Export(f\"{os.path.dirname(app.books[0].api.Path)}\\\\output\\\\{picture_name}.png\")\n",
    "    app.books[-1].close()\n",
    "get_picture(app1,sheet_,\"A1:F26\",\"寄了\")"
   ]
  },
  {
   "cell_type": "code",
   "execution_count": 28,
   "metadata": {},
   "outputs": [
    {
     "data": {
      "text/plain": [
       "'C:\\\\Users\\\\Light_ouo\\\\Documents\\\\Code\\\\Wind_Exporter_lite'"
      ]
     },
     "execution_count": 28,
     "metadata": {},
     "output_type": "execute_result"
    }
   ],
   "source": [
    "import os\n",
    "os.path.dirname(book.api.Path)"
   ]
  },
  {
   "cell_type": "code",
   "execution_count": 21,
   "metadata": {},
   "outputs": [
    {
     "data": {
      "text/plain": [
       "'C:\\\\Users\\\\Light_ouo\\\\Documents\\\\Code\\\\Wind_Exporter_lite\\\\template'"
      ]
     },
     "execution_count": 21,
     "metadata": {},
     "output_type": "execute_result"
    }
   ],
   "source": [
    "book.api.Path"
   ]
  },
  {
   "cell_type": "code",
   "execution_count": 14,
   "metadata": {},
   "outputs": [
    {
     "data": {
      "text/plain": [
       "True"
      ]
     },
     "execution_count": 14,
     "metadata": {},
     "output_type": "execute_result"
    }
   ],
   "source": [
    "chart_.api[1].Export(\"平安同存收益率.png\")\n"
   ]
  },
  {
   "cell_type": "code",
   "execution_count": 10,
   "metadata": {},
   "outputs": [
    {
     "name": "stdout",
     "output_type": "stream",
     "text": [
      "A1:E33\n",
      "<Sheet [全市场同存排名2022-12-08.xlsx]全市场同存>\n",
      "C:\\Users\\Light_ouo\\Documents\\Code\\Wind_Exporter_lite\\output\\2022-12-08\\pic\\2022-12-08全市场同存排名.png\n"
     ]
    },
    {
     "ename": "com_error",
     "evalue": "(-2147352567, '发生意外。', (0, None, None, None, 0, -2147287037), None)",
     "output_type": "error",
     "traceback": [
      "\u001b[1;31m---------------------------------------------------------------------------\u001b[0m",
      "\u001b[1;31mcom_error\u001b[0m                                 Traceback (most recent call last)",
      "\u001b[1;32mc:\\Users\\Light_ouo\\Documents\\Code\\Wind_Exporter_lite\\test.ipynb Cell 41\u001b[0m in \u001b[0;36m<cell line: 46>\u001b[1;34m()\u001b[0m\n\u001b[0;32m     <a href='vscode-notebook-cell:/c%3A/Users/Light_ouo/Documents/Code/Wind_Exporter_lite/test.ipynb#X55sZmlsZQ%3D%3D?line=42'>43</a>\u001b[0m path \u001b[39m=\u001b[39m \u001b[39m'\u001b[39m\u001b[39m./output/\u001b[39m\u001b[39m{}\u001b[39;00m\u001b[39m'\u001b[39m\u001b[39m.\u001b[39mformat(choice_data\u001b[39m.\u001b[39mstrftime(\u001b[39m'\u001b[39m\u001b[39m%\u001b[39m\u001b[39mY-\u001b[39m\u001b[39m%\u001b[39m\u001b[39mm-\u001b[39m\u001b[39m%d\u001b[39;00m\u001b[39m'\u001b[39m))\n\u001b[0;32m     <a href='vscode-notebook-cell:/c%3A/Users/Light_ouo/Documents/Code/Wind_Exporter_lite/test.ipynb#X55sZmlsZQ%3D%3D?line=43'>44</a>\u001b[0m path \u001b[39m=\u001b[39m path \u001b[39m+\u001b[39m \u001b[39m'\u001b[39m\u001b[39m/data\u001b[39m\u001b[39m'\u001b[39m\n\u001b[1;32m---> <a href='vscode-notebook-cell:/c%3A/Users/Light_ouo/Documents/Code/Wind_Exporter_lite/test.ipynb#X55sZmlsZQ%3D%3D?line=45'>46</a>\u001b[0m tongcun_rank_report(choice_data, path)\n",
      "\u001b[1;32mc:\\Users\\Light_ouo\\Documents\\Code\\Wind_Exporter_lite\\test.ipynb Cell 41\u001b[0m in \u001b[0;36mtongcun_rank_report\u001b[1;34m(date, path)\u001b[0m\n\u001b[0;32m     <a href='vscode-notebook-cell:/c%3A/Users/Light_ouo/Documents/Code/Wind_Exporter_lite/test.ipynb#X55sZmlsZQ%3D%3D?line=21'>22</a>\u001b[0m book\u001b[39m.\u001b[39msave(\u001b[39mf\u001b[39m\u001b[39m'\u001b[39m\u001b[39m{\u001b[39;00mpath\u001b[39m}\u001b[39;00m\u001b[39m/全市场同存排名\u001b[39m\u001b[39m{\u001b[39;00mdate\u001b[39m.\u001b[39mstrftime(\u001b[39m\"\u001b[39m\u001b[39m%\u001b[39m\u001b[39mY-\u001b[39m\u001b[39m%\u001b[39m\u001b[39mm-\u001b[39m\u001b[39m%d\u001b[39;00m\u001b[39m\"\u001b[39m)\u001b[39m}\u001b[39;00m\u001b[39m.xlsx\u001b[39m\u001b[39m'\u001b[39m)\n\u001b[0;32m     <a href='vscode-notebook-cell:/c%3A/Users/Light_ouo/Documents/Code/Wind_Exporter_lite/test.ipynb#X55sZmlsZQ%3D%3D?line=22'>23</a>\u001b[0m time\u001b[39m.\u001b[39msleep(\u001b[39m3\u001b[39m)\n\u001b[1;32m---> <a href='vscode-notebook-cell:/c%3A/Users/Light_ouo/Documents/Code/Wind_Exporter_lite/test.ipynb#X55sZmlsZQ%3D%3D?line=23'>24</a>\u001b[0m get_picture(app1,book\u001b[39m.\u001b[39;49msheets[\u001b[39m0\u001b[39;49m],\u001b[39m\"\u001b[39;49m\u001b[39mA1:E33\u001b[39;49m\u001b[39m\"\u001b[39;49m,\u001b[39mf\u001b[39;49m\u001b[39m\"\u001b[39;49m\u001b[39m{\u001b[39;49;00mdate\u001b[39m.\u001b[39;49mstrftime(\u001b[39m'\u001b[39;49m\u001b[39m%\u001b[39;49m\u001b[39mY-\u001b[39;49m\u001b[39m%\u001b[39;49m\u001b[39mm-\u001b[39;49m\u001b[39m%d\u001b[39;49;00m\u001b[39m'\u001b[39;49m)\u001b[39m}\u001b[39;49;00m\u001b[39m全市场同存排名\u001b[39;49m\u001b[39m\"\u001b[39;49m,path)\n\u001b[0;32m     <a href='vscode-notebook-cell:/c%3A/Users/Light_ouo/Documents/Code/Wind_Exporter_lite/test.ipynb#X55sZmlsZQ%3D%3D?line=24'>25</a>\u001b[0m quit_app()\n",
      "\u001b[1;32mc:\\Users\\Light_ouo\\Documents\\Code\\Wind_Exporter_lite\\test.ipynb Cell 41\u001b[0m in \u001b[0;36mget_picture\u001b[1;34m(app, sheet_, range_, picture_name, path)\u001b[0m\n\u001b[0;32m     <a href='vscode-notebook-cell:/c%3A/Users/Light_ouo/Documents/Code/Wind_Exporter_lite/test.ipynb#X55sZmlsZQ%3D%3D?line=34'>35</a>\u001b[0m path \u001b[39m=\u001b[39m Path(path)\u001b[39m.\u001b[39mresolve()\u001b[39m.\u001b[39mparent\n\u001b[0;32m     <a href='vscode-notebook-cell:/c%3A/Users/Light_ouo/Documents/Code/Wind_Exporter_lite/test.ipynb#X55sZmlsZQ%3D%3D?line=35'>36</a>\u001b[0m \u001b[39mprint\u001b[39m(\u001b[39mf\u001b[39m\u001b[39m\"\u001b[39m\u001b[39m{\u001b[39;00mos\u001b[39m.\u001b[39mpath\u001b[39m.\u001b[39mjoin(path, \u001b[39m'\u001b[39m\u001b[39mpic\u001b[39m\u001b[39m'\u001b[39m)\u001b[39m}\u001b[39;00m\u001b[39m\\\\\u001b[39;00m\u001b[39m{\u001b[39;00mpicture_name\u001b[39m}\u001b[39;00m\u001b[39m.png\u001b[39m\u001b[39m\"\u001b[39m)\n\u001b[1;32m---> <a href='vscode-notebook-cell:/c%3A/Users/Light_ouo/Documents/Code/Wind_Exporter_lite/test.ipynb#X55sZmlsZQ%3D%3D?line=36'>37</a>\u001b[0m chart_\u001b[39m.\u001b[39;49mapi[\u001b[39m1\u001b[39;49m]\u001b[39m.\u001b[39;49mExport(\u001b[39mf\u001b[39;49m\u001b[39m\"\u001b[39;49m\u001b[39m{\u001b[39;49;00mos\u001b[39m.\u001b[39;49mpath\u001b[39m.\u001b[39;49mjoin(path, \u001b[39m'\u001b[39;49m\u001b[39mpic\u001b[39;49m\u001b[39m'\u001b[39;49m)\u001b[39m}\u001b[39;49;00m\u001b[39m\\\\\u001b[39;49;00m\u001b[39m{\u001b[39;49;00mpicture_name\u001b[39m}\u001b[39;49;00m\u001b[39m.png\u001b[39;49m\u001b[39m\"\u001b[39;49m)\n\u001b[0;32m     <a href='vscode-notebook-cell:/c%3A/Users/Light_ouo/Documents/Code/Wind_Exporter_lite/test.ipynb#X55sZmlsZQ%3D%3D?line=37'>38</a>\u001b[0m app\u001b[39m.\u001b[39mbooks[\u001b[39m-\u001b[39m\u001b[39m1\u001b[39m]\u001b[39m.\u001b[39mclose()\n\u001b[0;32m     <a href='vscode-notebook-cell:/c%3A/Users/Light_ouo/Documents/Code/Wind_Exporter_lite/test.ipynb#X55sZmlsZQ%3D%3D?line=38'>39</a>\u001b[0m \u001b[39mprint\u001b[39m(\u001b[39m\"\u001b[39m\u001b[39m-----图片生成done-----\u001b[39m\u001b[39m\"\u001b[39m)\n",
      "File \u001b[1;32mc:\\ProgramData\\Anaconda3\\lib\\site-packages\\xlwings\\_xlwindows.py:70\u001b[0m, in \u001b[0;36mCOMRetryMethodWrapper.__call__\u001b[1;34m(self, *args, **kwargs)\u001b[0m\n\u001b[0;32m     68\u001b[0m \u001b[39mwhile\u001b[39;00m \u001b[39mTrue\u001b[39;00m:\n\u001b[0;32m     69\u001b[0m     \u001b[39mtry\u001b[39;00m:\n\u001b[1;32m---> 70\u001b[0m         v \u001b[39m=\u001b[39m \u001b[39mself\u001b[39m\u001b[39m.\u001b[39m__method(\u001b[39m*\u001b[39margs, \u001b[39m*\u001b[39m\u001b[39m*\u001b[39mkwargs)\n\u001b[0;32m     71\u001b[0m         \u001b[39mif\u001b[39;00m \u001b[39misinstance\u001b[39m(v, (CDispatch, CoClassBaseClass, DispatchBaseClass)):\n\u001b[0;32m     72\u001b[0m             \u001b[39mreturn\u001b[39;00m COMRetryObjectWrapper(v)\n",
      "File \u001b[1;32mC:\\Users\\LIGHT_~1\\AppData\\Local\\Temp\\gen_py\\3.9\\00020813-0000-0000-C000-000000000046x0x1x9.py:45426\u001b[0m, in \u001b[0;36m_Chart.Export\u001b[1;34m(self, Filename, FilterName, Interactive)\u001b[0m\n\u001b[0;32m  45425\u001b[0m \u001b[39mdef\u001b[39;00m \u001b[39mExport\u001b[39m(\u001b[39mself\u001b[39m, Filename\u001b[39m=\u001b[39mdefaultNamedNotOptArg, FilterName\u001b[39m=\u001b[39mdefaultNamedOptArg, Interactive\u001b[39m=\u001b[39mdefaultNamedOptArg):\n\u001b[1;32m> 45426\u001b[0m \t\u001b[39mreturn\u001b[39;00m \u001b[39mself\u001b[39;49m\u001b[39m.\u001b[39;49m_oleobj_\u001b[39m.\u001b[39;49mInvokeTypes(\u001b[39m1414\u001b[39;49m, LCID, \u001b[39m1\u001b[39;49m, (\u001b[39m11\u001b[39;49m, \u001b[39m0\u001b[39;49m), ((\u001b[39m8\u001b[39;49m, \u001b[39m1\u001b[39;49m), (\u001b[39m12\u001b[39;49m, \u001b[39m17\u001b[39;49m), (\u001b[39m12\u001b[39;49m, \u001b[39m17\u001b[39;49m)),Filename\n\u001b[0;32m  45427\u001b[0m \t\t, FilterName, Interactive)\n",
      "\u001b[1;31mcom_error\u001b[0m: (-2147352567, '发生意外。', (0, None, None, None, 0, -2147287037), None)"
     ]
    }
   ],
   "source": [
    "from meiri_report import quit_app\n",
    "import datetime as dt\n",
    "import xlwings as xw\n",
    "import pandas as pd\n",
    "import numpy as np\n",
    "import time\n",
    "from pathlib import Path\n",
    "\n",
    "def tongcun_rank_report(date=dt.datetime.now(), path='./output/'):\n",
    "    cun_data = pd.read_excel(f'{path}/{date.strftime(\"%Y-%m-%d\")}.xlsx',sheet_name='存单')\n",
    "    cun_data_ = cun_data.sort_values(by='区间收益率',ascending=False).iloc[:,[0,1,3,4]]\n",
    "    cun_data_['Rank'] = np.arange(1,len(cun_data_)+1)\n",
    "    cun_data_ = cun_data_.iloc[:,[4,0,1,2,3]]\n",
    "    app1 = xw.App(add_book=False)\n",
    "    app1.display_alerts = False\n",
    "    book = app1.books.open('./template/全市场同存排名.xlsx')\n",
    "    book.sheets[0][\"A3\"].options(index=False,header=False).value = cun_data_\n",
    "    i= int(book.sheets[0][\"B34\"].value)\n",
    "    book.sheets[0][f\"A{i}:E{i}\"].api.Interior.Color = 65535\n",
    "    book.sheets[0][\"A1\"].value = f\"全市场同存排名({date.strftime('%Y')}年{date.strftime('%m')}月{date.strftime('%d')}日)\"\n",
    "\n",
    "    book.save(f'{path}/全市场同存排名{date.strftime(\"%Y-%m-%d\")}.xlsx')\n",
    "    time.sleep(3)\n",
    "    get_picture(app1,book.sheets[0],\"A1:E33\",f\"{date.strftime('%Y-%m-%d')}全市场同存排名\",path)\n",
    "    quit_app()  \n",
    "\n",
    "def get_picture(app,sheet_,range_:str,picture_name:str,path:str):\n",
    "    app.books.add()\n",
    "    chart_ = app.books[-1].sheets[0].charts.add(left=0,top=0,width=sheet_[range_].width,height=sheet_[range_].height)\n",
    "    print(range_)\n",
    "    print(sheet_)\n",
    "    print(chart_)\n",
    "    sheet_[range_].api.CopyPicture(Appearance=1,Format=-4147)\n",
    "    time.sleep(0.1)\n",
    "    chart_.api[1].Paste()\n",
    "    path = Path(path).resolve().parent\n",
    "    print(f\"{os.path.join(path, 'pic')}\\\\{picture_name}.png\")\n",
    "    chart_.api[1].Export(f\"{os.path.join(path, 'pic')}\\\\{picture_name}.png\")\n",
    "    app.books[-1].close()\n",
    "    print(\"-----图片生成done-----\")\n",
    "\n",
    "\n",
    "choice_data = dt.datetime.now()\n",
    "path = './output/{}'.format(choice_data.strftime('%Y-%m-%d'))\n",
    "path = path + '/data'\n",
    "\n",
    "tongcun_rank_report(choice_data, path)"
   ]
  },
  {
   "cell_type": "code",
   "execution_count": 25,
   "metadata": {},
   "outputs": [
    {
     "name": "stdout",
     "output_type": "stream",
     "text": [
      "C:\\Users\\Light_ouo\\Documents\\Code\\Wind_Exporter_lite\\output\\2022-12-08\\picture\\1.png\n"
     ]
    },
    {
     "data": {
      "text/plain": [
       "True"
      ]
     },
     "execution_count": 25,
     "metadata": {},
     "output_type": "execute_result"
    }
   ],
   "source": [
    "choice_data = dt.datetime.now()\n",
    "path = './output/{}'.format(choice_data.strftime('%Y-%m-%d'))\n",
    "path = Path(path).resolve()\n",
    "xw.books[0].sheets[0][\"A1:E33\"].api.CopyPicture(Appearance=1,Format=-4147)\n",
    "chart_ = xw.books[1].sheets[0].charts[0]\n",
    "print(f\"{os.path.join(path, 'picture')}\\\\{1}.png\")\n",
    "chart_.api[1].Export(f\"{os.path.join(path, 'picture')}\\\\{1}.png\")"
   ]
  },
  {
   "cell_type": "code",
   "execution_count": 17,
   "metadata": {},
   "outputs": [
    {
     "data": {
      "text/plain": [
       "Charts([<Chart 'Chart 1' in <Sheet [工作簿1]Sheet1>>])"
      ]
     },
     "execution_count": 17,
     "metadata": {},
     "output_type": "execute_result"
    }
   ],
   "source": []
  },
  {
   "cell_type": "code",
   "execution_count": 13,
   "metadata": {},
   "outputs": [],
   "source": [
    "from WdpCore import Wind_Exporter\n",
    "import xlwings as xw\n",
    "import datetime as dt\n",
    "import time\n",
    "from meiri_report import quit_app,get_picture\n",
    "def bond_report(date = dt.datetime.today()):\n",
    "    code_for_zhai = ['005754.OF', '005756.OF', '007935.OF', '007936.OF']\n",
    "    info = [\n",
    "    \"\"\"购买信息：\n",
    "    A类(005754)申购费率0.10%-0.30%，赎回费率0.00%-1.50%（>30天赎回费率=0）\"\"\",\n",
    "    \"\"\"购买信息：\n",
    "    E类(005756)销售服务费率0.25%（每年），赎回费率0.00%-1.50%（＞30天赎回费率=0）\"\"\",\n",
    "    \"\"\"购买信息：\n",
    "    A类(007935)申购费率：M＜100万，费率0.8%；100万≤M＜300万，费率0.50%；300万≤M＜500万，费率0.30%；M≥500万，每笔1000元；赎回费率：0.00%-1.50%（≥30天赎回费率=0）\"\"\",\n",
    "    \"\"\"购买信息：\n",
    "    C类(007936)销售服务费率0.50%（每年）；赎回费率：0.00%-1.50%（≥30天赎回费率=0）\"\"\"]\n",
    "\n",
    "\n",
    "    # 1. 获取数据\n",
    "    a = Wind_Exporter(code=code_for_zhai, indicator=\"sec_name,nav_date,nav,NAV_adj_return1,return_1y\",options=\"annualized=1\",method=\"wsd\",StartDate=\"ED-21TD\",EndDate=date.strftime(\"%Y-%m-%d\"))\n",
    "    a.get_data()\n",
    "    data = []\n",
    "    for i,code in enumerate(code_for_zhai):\n",
    "        b = a.data[i].sort_values(by='NAV_DATE', ascending=False)\n",
    "        name = b['SEC_NAME'].iloc[0]\n",
    "        b.NAV_ADJ_RETURN1 = (b.NAV_ADJ_RETURN1/100).round(4)\n",
    "        b.RETURN_1Y = (b.RETURN_1Y/100).round(4)\n",
    "        data.append([b,name,code])\n",
    "\n",
    "    print(\"数据获取完毕\")\n",
    "\n",
    "    # 2. 写入Excel\n",
    "    invisible_app = xw.App(add_book=False)\n",
    "    book = invisible_app.books.open('./template/zhai2_tem.xlsx')\n",
    "    for i in range(len(data)//2):\n",
    "        i_ = i*2\n",
    "        sheet_ = book.sheets[0]\n",
    "        sheet_.name = data[i_][1]\n",
    "        sheet_[\"A4\"].options(index=False, header=False).value = data[i_][0].sort_values(by='NAV_DATE', ascending=False).loc[:,[\"NAV_DATE\",\"NAV\",\"NAV_ADJ_RETURN1\"]]\n",
    "        sheet_[\"F4\"].options(index=False, header=False).value = data[i_][0].sort_values(by='NAV_DATE', ascending=False).loc[:,[\"RETURN_1Y\"]]\n",
    "        sheet_[\"A1\"].value = f\"{data[i_][1]}（{data[i_][2].replace('.OF','')}）收益情况播报\"\n",
    "        sheet_[\"A26\"].value = info[i_]\n",
    "\n",
    "        sheet_[\"A31\"].options(index=False, header=False).value = data[i_+1][0].sort_values(by='NAV_DATE', ascending=False).loc[:,[\"NAV_DATE\",\"NAV\",\"NAV_ADJ_RETURN1\"]]\n",
    "        sheet_[\"F31\"].options(index=False, header=False).value = data[i_+1][0].sort_values(by='NAV_DATE', ascending=False).loc[:,[\"RETURN_1Y\"]]\n",
    "        sheet_[\"A28\"].value = f\"{data[i_+1][1]}（{data[i_+1][2].replace('.OF','')}）收益情况播报\"\n",
    "        sheet_[\"A53\"].value = info[i_+1]\n",
    "        sheet_.copy()\n",
    "        time.sleep(3)\n",
    "        get_picture(invisible_app,sheet_,\"A1:F55\",f\"{date.strftime('%Y-%m-%d')}{data[i_][1]}\")\n",
    "    sheet_.delete()\n",
    "    book.save(f\"./output/债券基金收益情况播报_{date.strftime('%Y-%m-%d')}.xlsx\")\n",
    "    quit_app()\n",
    "    print(\"数据写入完毕\")\n",
    "\n"
   ]
  },
  {
   "cell_type": "code",
   "execution_count": 14,
   "metadata": {},
   "outputs": [
    {
     "name": "stdout",
     "output_type": "stream",
     "text": [
      "数据获取完毕\n",
      "-----图片生成done-----\n",
      "-----图片生成done-----\n",
      "数据写入完毕\n"
     ]
    }
   ],
   "source": [
    "bond_report(dt.datetime.now()-dt.timedelta(days=1))"
   ]
  },
  {
   "cell_type": "code",
   "execution_count": 5,
   "metadata": {},
   "outputs": [
    {
     "data": {
      "text/plain": [
       "[2.54, 2.28]"
      ]
     },
     "execution_count": 5,
     "metadata": {},
     "output_type": "execute_result"
    }
   ],
   "source": [
    "data_4 = pd.read_excel(f'./output/2022-12-05.xlsx',sheet_name='债',index_col=0).round(2)\n",
    "[data_4['近1年回报'][f'{i}'] for i in ['005754.OF', '005756.OF']]"
   ]
  },
  {
   "cell_type": "code",
   "execution_count": 6,
   "metadata": {},
   "outputs": [
    {
     "data": {
      "text/html": [
       "<div>\n",
       "<style scoped>\n",
       "    .dataframe tbody tr th:only-of-type {\n",
       "        vertical-align: middle;\n",
       "    }\n",
       "\n",
       "    .dataframe tbody tr th {\n",
       "        vertical-align: top;\n",
       "    }\n",
       "\n",
       "    .dataframe thead th {\n",
       "        text-align: right;\n",
       "    }\n",
       "</style>\n",
       "<table border=\"1\" class=\"dataframe\">\n",
       "  <thead>\n",
       "    <tr style=\"text-align: right;\">\n",
       "      <th></th>\n",
       "      <th>证券简称</th>\n",
       "      <th>基金净值日期</th>\n",
       "      <th>单位净值</th>\n",
       "      <th>当期复权单位净值增长率</th>\n",
       "      <th>近1月回报</th>\n",
       "      <th>近3月回报</th>\n",
       "      <th>近1年回报</th>\n",
       "    </tr>\n",
       "  </thead>\n",
       "  <tbody>\n",
       "    <tr>\n",
       "      <th>005754.OF</th>\n",
       "      <td>平安短债A</td>\n",
       "      <td>2022-12-05</td>\n",
       "      <td>1.14</td>\n",
       "      <td>0.03</td>\n",
       "      <td>-3.85</td>\n",
       "      <td>-0.14</td>\n",
       "      <td>2.54</td>\n",
       "    </tr>\n",
       "    <tr>\n",
       "      <th>005756.OF</th>\n",
       "      <td>平安短债E</td>\n",
       "      <td>2022-12-05</td>\n",
       "      <td>1.13</td>\n",
       "      <td>0.03</td>\n",
       "      <td>-4.10</td>\n",
       "      <td>-0.42</td>\n",
       "      <td>2.28</td>\n",
       "    </tr>\n",
       "    <tr>\n",
       "      <th>008911.OF</th>\n",
       "      <td>平安元丰中短债A</td>\n",
       "      <td>2022-12-05</td>\n",
       "      <td>1.07</td>\n",
       "      <td>-0.04</td>\n",
       "      <td>-13.10</td>\n",
       "      <td>-4.17</td>\n",
       "      <td>1.37</td>\n",
       "    </tr>\n",
       "    <tr>\n",
       "      <th>008913.OF</th>\n",
       "      <td>平安元丰中短债E</td>\n",
       "      <td>2022-12-05</td>\n",
       "      <td>1.06</td>\n",
       "      <td>-0.05</td>\n",
       "      <td>-13.38</td>\n",
       "      <td>-4.45</td>\n",
       "      <td>1.11</td>\n",
       "    </tr>\n",
       "    <tr>\n",
       "      <th>007935.OF</th>\n",
       "      <td>平安惠澜纯债A</td>\n",
       "      <td>2022-12-05</td>\n",
       "      <td>1.13</td>\n",
       "      <td>-0.05</td>\n",
       "      <td>-9.62</td>\n",
       "      <td>-3.18</td>\n",
       "      <td>2.71</td>\n",
       "    </tr>\n",
       "    <tr>\n",
       "      <th>007936.OF</th>\n",
       "      <td>平安惠澜纯债C</td>\n",
       "      <td>2022-12-05</td>\n",
       "      <td>1.11</td>\n",
       "      <td>-0.06</td>\n",
       "      <td>-10.15</td>\n",
       "      <td>-3.64</td>\n",
       "      <td>2.20</td>\n",
       "    </tr>\n",
       "    <tr>\n",
       "      <th>008696.OF</th>\n",
       "      <td>平安元盛超短债E</td>\n",
       "      <td>2022-12-05</td>\n",
       "      <td>1.06</td>\n",
       "      <td>0.01</td>\n",
       "      <td>0.46</td>\n",
       "      <td>-0.75</td>\n",
       "      <td>1.41</td>\n",
       "    </tr>\n",
       "    <tr>\n",
       "      <th>004827.OF</th>\n",
       "      <td>平安中短债A</td>\n",
       "      <td>2022-12-05</td>\n",
       "      <td>1.14</td>\n",
       "      <td>0.00</td>\n",
       "      <td>-11.19</td>\n",
       "      <td>-3.60</td>\n",
       "      <td>2.07</td>\n",
       "    </tr>\n",
       "    <tr>\n",
       "      <th>006851.OF</th>\n",
       "      <td>平安中短债E</td>\n",
       "      <td>2022-12-05</td>\n",
       "      <td>1.13</td>\n",
       "      <td>-0.01</td>\n",
       "      <td>-11.47</td>\n",
       "      <td>-3.87</td>\n",
       "      <td>1.80</td>\n",
       "    </tr>\n",
       "  </tbody>\n",
       "</table>\n",
       "</div>"
      ],
      "text/plain": [
       "               证券简称      基金净值日期  单位净值  当期复权单位净值增长率  近1月回报  近3月回报  近1年回报\n",
       "005754.OF     平安短债A  2022-12-05  1.14         0.03  -3.85  -0.14   2.54\n",
       "005756.OF     平安短债E  2022-12-05  1.13         0.03  -4.10  -0.42   2.28\n",
       "008911.OF  平安元丰中短债A  2022-12-05  1.07        -0.04 -13.10  -4.17   1.37\n",
       "008913.OF  平安元丰中短债E  2022-12-05  1.06        -0.05 -13.38  -4.45   1.11\n",
       "007935.OF   平安惠澜纯债A  2022-12-05  1.13        -0.05  -9.62  -3.18   2.71\n",
       "007936.OF   平安惠澜纯债C  2022-12-05  1.11        -0.06 -10.15  -3.64   2.20\n",
       "008696.OF  平安元盛超短债E  2022-12-05  1.06         0.01   0.46  -0.75   1.41\n",
       "004827.OF    平安中短债A  2022-12-05  1.14         0.00 -11.19  -3.60   2.07\n",
       "006851.OF    平安中短债E  2022-12-05  1.13        -0.01 -11.47  -3.87   1.80"
      ]
     },
     "execution_count": 6,
     "metadata": {},
     "output_type": "execute_result"
    }
   ],
   "source": [
    "data_4"
   ]
  },
  {
   "cell_type": "code",
   "execution_count": 38,
   "metadata": {},
   "outputs": [
    {
     "data": {
      "text/html": [
       "<div>\n",
       "<style scoped>\n",
       "    .dataframe tbody tr th:only-of-type {\n",
       "        vertical-align: middle;\n",
       "    }\n",
       "\n",
       "    .dataframe tbody tr th {\n",
       "        vertical-align: top;\n",
       "    }\n",
       "\n",
       "    .dataframe thead th {\n",
       "        text-align: right;\n",
       "    }\n",
       "</style>\n",
       "<table border=\"1\" class=\"dataframe\">\n",
       "  <thead>\n",
       "    <tr style=\"text-align: right;\">\n",
       "      <th></th>\n",
       "      <th>dogs</th>\n",
       "      <th>cats</th>\n",
       "    </tr>\n",
       "  </thead>\n",
       "  <tbody>\n",
       "    <tr>\n",
       "      <th>0</th>\n",
       "      <td>0.21</td>\n",
       "      <td>2.28</td>\n",
       "    </tr>\n",
       "    <tr>\n",
       "      <th>1</th>\n",
       "      <td>0.01</td>\n",
       "      <td>0.67</td>\n",
       "    </tr>\n",
       "    <tr>\n",
       "      <th>2</th>\n",
       "      <td>0.66</td>\n",
       "      <td>0.03</td>\n",
       "    </tr>\n",
       "    <tr>\n",
       "      <th>3</th>\n",
       "      <td>0.21</td>\n",
       "      <td>0.18</td>\n",
       "    </tr>\n",
       "  </tbody>\n",
       "</table>\n",
       "</div>"
      ],
      "text/plain": [
       "   dogs  cats\n",
       "0  0.21  2.28\n",
       "1  0.01  0.67\n",
       "2  0.66  0.03\n",
       "3  0.21  0.18"
      ]
     },
     "execution_count": 38,
     "metadata": {},
     "output_type": "execute_result"
    }
   ],
   "source": [
    "df = pd.DataFrame([(.21, 2.285), (.01, .67), (.66, .03), (.21, .18)],\n",
    "                  columns=['dogs', 'cats'])\n",
    "df.round(2)"
   ]
  },
  {
   "cell_type": "code",
   "execution_count": 18,
   "metadata": {},
   "outputs": [
    {
     "data": {
      "text/plain": [
       "2.1"
      ]
     },
     "execution_count": 18,
     "metadata": {},
     "output_type": "execute_result"
    }
   ],
   "source": [
    "round(2.15, 1)\n"
   ]
  },
  {
   "cell_type": "code",
   "execution_count": 19,
   "metadata": {},
   "outputs": [
    {
     "data": {
      "text/plain": [
       "5.2"
      ]
     },
     "execution_count": 19,
     "metadata": {},
     "output_type": "execute_result"
    }
   ],
   "source": [
    "round(5.15, 1)"
   ]
  },
  {
   "cell_type": "code",
   "execution_count": 34,
   "metadata": {},
   "outputs": [
    {
     "data": {
      "text/plain": [
       "2.29"
      ]
     },
     "execution_count": 34,
     "metadata": {},
     "output_type": "execute_result"
    }
   ],
   "source": [
    "round(2.285, 2)"
   ]
  },
  {
   "cell_type": "code",
   "execution_count": 2,
   "metadata": {},
   "outputs": [
    {
     "name": "stdout",
     "output_type": "stream",
     "text": [
      "Welcome to use Wind Quant API for Python (WindPy)!\n",
      "\n",
      "COPYRIGHT (C) 2020 WIND INFORMATION CO., LTD. ALL RIGHTS RESERVED.\n",
      "IN NO CIRCUMSTANCE SHALL WIND BE RESPONSIBLE FOR ANY DAMAGES OR LOSSES CAUSED BY USING WIND QUANT API FOR Python.\n"
     ]
    }
   ],
   "source": [
    "from WdpCore import Wind_Exporter\n",
    "import datetime as dt"
   ]
  },
  {
   "cell_type": "code",
   "execution_count": 11,
   "metadata": {},
   "outputs": [
    {
     "data": {
      "text/plain": [
       "Wind_Exporter(['002450.OF', '004827.OF', '015645.OF', '008694.OF', '005754.OF', '700003.OF', '000739.OF', '007935.OF', '009661.OF', '009878.OF', '\\n                        010126.OF', '014460.OF', '013767.OF', '013687.OF', '004390.OF', '012475.OF', '007893.OF', '011828.OF', '885001.WI'], sec_name,nav_date,nav,NAV_adj_return1,NAV_adj_return,return_ytd, wss, None, 20221109, 20221208, annualized=0), With data length 1"
      ]
     },
     "execution_count": 11,
     "metadata": {},
     "output_type": "execute_result"
    }
   ],
   "source": [
    "code_for_meiri_str = \"\"\"002450.OF,004827.OF,015645.OF,008694.OF,005754.OF,700003.OF,000739.OF,007935.OF,009661.OF,009878.OF,\n",
    "                        010126.OF,014460.OF,013767.OF,013687.OF,004390.OF,012475.OF,007893.OF,011828.OF,885001.WI\"\"\"\n",
    "choice_data= \"2022-12-08\"\n",
    "unusual_date = Wind_Exporter(code=\"015510.OF\", indicator=\"nav_date\",options=\"annualized=0\",method=\"wss\",StartDate=\"before1m\",EndDate=choice_data).get_data().data[0].iloc[0][0].to_pydatetime().strftime(\"%Y-%m-%d\")\n",
    "e = Wind_Exporter(code=code_for_meiri_str, indicator=\"sec_name,nav_date,nav,NAV_adj_return1,NAV_adj_return,return_ytd\",options=\"annualized=0\",method=\"wss\",StartDate=\"before1m\",EndDate=choice_data)\n",
    "e_ = Wind_Exporter(code=code_for_meiri_str, indicator=\"NAV_adj_return\",method=\"wss\",StartDate=\"before1y\",EndDate=choice_data)\n",
    "\n",
    "e_2 = Wind_Exporter(code=\"015510.OF\", indicator=\"sec_name,nav_date,nav,NAV_adj_return1,NAV_adj_return,return_ytd\",options=\"annualized=0\",method=\"wss\",StartDate=\"before1m\",EndDate=unusual_date)\n",
    "e.get_data().add_data(e_2,axis=0).add_data(e_)\n"
   ]
  },
  {
   "cell_type": "code",
   "execution_count": 12,
   "metadata": {},
   "outputs": [
    {
     "data": {
      "text/plain": [
       "[               SEC_NAME   NAV_DATE     NAV  NAV_ADJ_RETURN1  NAV_ADJ_RETURN  \\\n",
       " 002450.OF       平安睿享文娱A 2022-12-08  2.0880        -1.183152       -9.805616   \n",
       " 004827.OF        平安中短债A 2022-12-08  1.1399        -0.061371       -1.204715   \n",
       " 015645.OF  平安同业存单指数7天持有 2022-12-08  1.0103        -0.009897        0.049515   \n",
       " 008694.OF      平安元盛超短债A 2022-12-08  1.0707        -0.009339        0.018683   \n",
       " 005754.OF         平安短债A 2022-12-08  1.1423        -0.061242       -0.548494   \n",
       " 700003.OF        平安策略先锋 2022-12-08  5.4510         0.018349       -5.724663   \n",
       " 000739.OF       平安新鑫先锋A 2022-12-08  2.6690        -0.669892       -6.219255   \n",
       " 007935.OF       平安惠澜纯债A 2022-12-08  1.1203        -0.062444       -1.260356   \n",
       " 009661.OF       平安研究睿选A 2022-12-08  0.8957         0.167748        4.515753   \n",
       " 009878.OF       平安低碳经济A 2022-12-08  1.0048         0.409713        7.753351   \n",
       " 010126.OF       平安价值成长A 2022-12-08  0.8811        -0.888639       -9.472927   \n",
       " 014460.OF       平安品质优选A 2022-12-08  0.8895         0.270544       -5.853091   \n",
       " 013767.OF       平安价值回报A 2022-12-08  0.9785         0.225341        5.215054   \n",
       " 013687.OF   平安成长龙头1年持有A 2022-12-08  0.7504        -1.015697       -9.119535   \n",
       " 004390.OF       平安转型创新A 2022-12-08  3.0840         0.142876       -5.561000   \n",
       " 012475.OF       平安优质企业A 2022-12-08  0.7291         0.399339       -4.530575   \n",
       " 007893.OF       平安估值精选A 2022-12-08  1.2381        -0.888569       -9.290058   \n",
       " 011828.OF       平安睿享成长A 2022-12-08  0.7494        -0.873016       -9.732595   \n",
       " 885001.WI   万得偏股混合型基金指数 1899-12-30     NaN              NaN             NaN   \n",
       " 015510.OF       平安价值领航A 2022-12-02  0.9990        -0.090009       -0.100000   \n",
       " \n",
       "            RETURN_YTD  NAV_ADJ_RETURN  \n",
       " 002450.OF  -18.501171      -18.149745  \n",
       " 004827.OF    1.504898        1.722292  \n",
       " 015645.OF    1.030000             NaN  \n",
       " 008694.OF    1.363249        1.526645  \n",
       " 005754.OF    2.045739        2.237537  \n",
       " 700003.OF  -16.549296      -18.042400  \n",
       " 000739.OF  -13.456550      -15.457713  \n",
       " 007935.OF    1.623730        2.077449  \n",
       " 009661.OF  -24.041723      -24.945534  \n",
       " 009878.OF  -13.439008      -15.986622  \n",
       " 010126.OF  -26.550517      -26.206030  \n",
       " 014460.OF  -11.041104             NaN  \n",
       " 013767.OF   -2.150000             NaN  \n",
       " 013687.OF  -24.741751      -25.064909  \n",
       " 004390.OF  -17.438561      -18.726612  \n",
       " 012475.OF  -23.933229      -25.994722  \n",
       " 007893.OF  -23.963643      -23.399121  \n",
       " 011828.OF  -25.882702      -25.246883  \n",
       " 885001.WI         NaN             NaN  \n",
       " 015510.OF   -0.100000             NaN  ]"
      ]
     },
     "execution_count": 12,
     "metadata": {},
     "output_type": "execute_result"
    }
   ],
   "source": [
    "e.data"
   ]
  },
  {
   "cell_type": "code",
   "execution_count": 5,
   "metadata": {},
   "outputs": [
    {
     "data": {
      "text/plain": [
       "[          SEC_NAME   NAV_DATE    NAV  NAV_ADJ_RETURN1  NAV_ADJ_RETURN  \\\n",
       " 015510.OF  平安价值领航A 2022-12-02  0.999        -0.090009            -0.1   \n",
       " \n",
       "            RETURN_YTD  \n",
       " 015510.OF        -0.1  ]"
      ]
     },
     "execution_count": 5,
     "metadata": {},
     "output_type": "execute_result"
    }
   ],
   "source": [
    "e_2.data"
   ]
  },
  {
   "cell_type": "code",
   "execution_count": 3,
   "metadata": {},
   "outputs": [
    {
     "data": {
      "text/plain": [
       "[               SEC_NAME   NAV_DATE     NAV  NAV_ADJ_RETURN1  NAV_ADJ_RETURN  \\\n",
       " 002450.OF       平安睿享文娱A 2022-12-09  2.0710              NaN       -8.686067   \n",
       " 004827.OF        平安中短债A 2022-12-09  1.1392              NaN       -1.188308   \n",
       " 015645.OF  平安同业存单指数7天持有 2022-12-09  1.0103              NaN        0.059424   \n",
       " 008694.OF      平安元盛超短债A 2022-12-09  1.0704              NaN       -0.074683   \n",
       " 005754.OF         平安短债A 2022-12-09  1.1418              NaN       -0.557394   \n",
       " 700003.OF        平安策略先锋 2022-12-09  5.4260              NaN       -4.151210   \n",
       " 000739.OF       平安新鑫先锋A 2022-12-09  2.6680              NaN       -5.188344   \n",
       " 007935.OF       平安惠澜纯债A 2022-12-09  1.1190              NaN       -1.322751   \n",
       " 009661.OF       平安研究睿选A 2022-12-09  0.9151              NaN        9.057323   \n",
       " 009878.OF       平安低碳经济A 2022-12-09  1.0240              NaN       12.552209   \n",
       " 010126.OF       平安价值成长A 2022-12-09  0.8780              NaN       -8.274133   \n",
       " 014460.OF       平安品质优选A 2022-12-09  0.8850              NaN       -4.220779   \n",
       " 013767.OF       平安价值回报A 2022-12-09  0.9932              NaN        7.338161   \n",
       " 013687.OF   平安成长龙头1年持有A 2022-12-09  0.7474              NaN       -8.080187   \n",
       " 004390.OF       平安转型创新A 2022-12-09  3.0660              NaN       -4.184506   \n",
       " 012475.OF       平安优质企业A 2022-12-09  0.7353              NaN       -1.697861   \n",
       " 007893.OF       平安估值精选A 2022-12-09  1.2347              NaN       -8.009239   \n",
       " 011828.OF       平安睿享成长A 2022-12-09  0.7469              NaN       -8.524189   \n",
       " 885001.WI   万得偏股混合型基金指数 1899-12-30     NaN              NaN             NaN   \n",
       " 015510.OF       平安价值领航A 2022-12-09  1.0167         1.771772        1.670000   \n",
       " \n",
       "            RETURN_YTD  \n",
       " 002450.OF  -19.164715  \n",
       " 004827.OF    1.442565  \n",
       " 015645.OF    1.030000  \n",
       " 008694.OF    1.334848  \n",
       " 005754.OF    2.001072  \n",
       " 700003.OF  -16.932027  \n",
       " 000739.OF  -13.488975  \n",
       " 007935.OF    1.505806  \n",
       " 009661.OF  -22.396540  \n",
       " 009878.OF  -11.784976  \n",
       " 010126.OF  -26.808936  \n",
       " 014460.OF  -11.491149  \n",
       " 013767.OF   -0.680000  \n",
       " 013687.OF  -25.042624  \n",
       " 004390.OF  -17.920437  \n",
       " 012475.OF  -23.286385  \n",
       " 007893.OF  -24.172450  \n",
       " 011828.OF  -26.129957  \n",
       " 885001.WI         NaN  \n",
       " 015510.OF    1.670000  ]"
      ]
     },
     "execution_count": 3,
     "metadata": {},
     "output_type": "execute_result"
    }
   ],
   "source": [
    "e.data"
   ]
  },
  {
   "cell_type": "code",
   "execution_count": 5,
   "metadata": {},
   "outputs": [
    {
     "data": {
      "text/plain": [
       "[          SEC_NAME   NAV_DATE     NAV  NAV_ADJ_RETURN1  NAV_ADJ_RETURN  \\\n",
       " 015510.OF  平安价值领航A 2022-12-09  1.0167         1.771772            1.67   \n",
       " \n",
       "            RETURN_YTD  \n",
       " 015510.OF        1.67  ]"
      ]
     },
     "execution_count": 5,
     "metadata": {},
     "output_type": "execute_result"
    }
   ],
   "source": [
    "e_2.data"
   ]
  },
  {
   "cell_type": "code",
   "execution_count": 2,
   "metadata": {},
   "outputs": [],
   "source": [
    "from decimal import Decimal,ROUND_HALF_UP\n",
    "def round_half_up(number, ndigits):\n",
    "    if isinstance(number, list):\n",
    "        return [Decimal(str(num)).quantize(Decimal('0.' + '0' * ndigits), rounding=ROUND_HALF_UP) for num in number]\n",
    "    if isinstance(number, float):\n",
    "        return Decimal(str(number)).quantize(Decimal('0.' + '0' * ndigits), rounding=ROUND_HALF_UP)\n"
   ]
  },
  {
   "cell_type": "code",
   "execution_count": 16,
   "metadata": {},
   "outputs": [
    {
     "data": {
      "text/plain": [
       "'C:\\\\Users\\\\Light_ouo\\\\Documents\\\\Code\\\\Wind_Exporter_lite\\\\output'"
      ]
     },
     "execution_count": 16,
     "metadata": {},
     "output_type": "execute_result"
    }
   ],
   "source": [
    "import os\n",
    "from pathlib import Path\n",
    "path = Path(os.getcwd()).resolve()\n",
    "os.path.join(path, 'output')"
   ]
  },
  {
   "cell_type": "code",
   "execution_count": 14,
   "metadata": {},
   "outputs": [],
   "source": [
    "def create_folder(choice_data):\n",
    "    path = './output/{}'.format(choice_data)\n",
    "    if not os.path.exists(path):\n",
    "        os.makedirs(path)\n",
    "    if not os.path.exists(path+'/data'):\n",
    "        os.makedirs(path+'/data')\n",
    "    if not os.path.exists(path+'/picture'):\n",
    "        os.makedirs(path+'/picture')\n",
    "create_folder('2021-12-05')"
   ]
  },
  {
   "cell_type": "code",
   "execution_count": 15,
   "metadata": {},
   "outputs": [
    {
     "ename": "NameError",
     "evalue": "name '__file__' is not defined",
     "output_type": "error",
     "traceback": [
      "\u001b[1;31m---------------------------------------------------------------------------\u001b[0m",
      "\u001b[1;31mNameError\u001b[0m                                 Traceback (most recent call last)",
      "\u001b[1;32mc:\\Users\\Light_ouo\\Documents\\Code\\Wind_Exporter_lite\\test.ipynb Cell 54\u001b[0m in \u001b[0;36m<cell line: 1>\u001b[1;34m()\u001b[0m\n\u001b[1;32m----> <a href='vscode-notebook-cell:/c%3A/Users/Light_ouo/Documents/Code/Wind_Exporter_lite/test.ipynb#Y105sZmlsZQ%3D%3D?line=0'>1</a>\u001b[0m os\u001b[39m.\u001b[39mpath\u001b[39m.\u001b[39mdirname(os\u001b[39m.\u001b[39mpath\u001b[39m.\u001b[39mabspath(\u001b[39m__file__\u001b[39;49m))\n",
      "\u001b[1;31mNameError\u001b[0m: name '__file__' is not defined"
     ]
    }
   ],
   "source": [
    "os.path.dirname(os.path.abspath(__file__))"
   ]
  }
 ],
 "metadata": {
  "kernelspec": {
   "display_name": "Python 3",
   "language": "python",
   "name": "python3"
  },
  "language_info": {
   "codemirror_mode": {
    "name": "ipython",
    "version": 3
   },
   "file_extension": ".py",
   "mimetype": "text/x-python",
   "name": "python",
   "nbconvert_exporter": "python",
   "pygments_lexer": "ipython3",
   "version": "3.7.3"
  },
  "orig_nbformat": 4,
  "vscode": {
   "interpreter": {
    "hash": "161b856a75c3da956a7e136959ccda482ef0b1f77a00c9ad03ebd13b08dbc009"
   }
  }
 },
 "nbformat": 4,
 "nbformat_minor": 2
}
